{
 "cells": [
  {
   "cell_type": "markdown",
   "id": "4165ee7f",
   "metadata": {},
   "source": [
    "# ODE and Python\n"
   ]
  },
  {
   "cell_type": "markdown",
   "id": "b47d49a1",
   "metadata": {},
   "source": [
    "Example: $dx/dt=a x , x(0)=1$\n",
    "    \n",
    "The solution for the differential equation is found to be: $x(t)=e^{a t} x_0$.\n",
    "\n",
    "Parameters:\n",
    "\n",
    "T = 5,\n",
    "a = -1/T,\n",
    "x0 = 1,\n",
    "t = 0,\n",
    "tstart = 0,\n",
    "tstop = 25,\n",
    "increment = 1\n",
    "    "
   ]
  },
  {
   "cell_type": "code",
   "execution_count": null,
   "id": "5b854840",
   "metadata": {},
   "outputs": [],
   "source": [
    "import math as mt\n",
    "import numpy as np\n",
    "import matplotlib.pyplot as plt\n",
    "# Parameters\n",
    "T = 5\n",
    "a = -1/T\n",
    "x0 = 1\n",
    "t = 0\n",
    "tstart = 0\n",
    "tstop = 25\n",
    "increment = 1\n",
    "x = []\n",
    "x = np.zeros(tstop+1)\n",
    "t = np.arange(tstart,?,increment)\n",
    "# Define the Equation\n",
    "for k in range(tstop):\n",
    "    x[k] = mt.exp(a*t[k]) * x0\n",
    "# Plot the Results\n",
    "plt.plot(t,x)\n",
    "plt.title('Plotting Differential Equation Solution')\n",
    "plt.xlabel('t')\n",
    "plt.ylabel('x(t)')\n",
    "plt.grid()\n",
    "plt.axis([0, 25, 0, 1])"
   ]
  },
  {
   "cell_type": "code",
   "execution_count": null,
   "id": "0e008e18",
   "metadata": {},
   "outputs": [],
   "source": [
    "Alternate Solution (no for loop)"
   ]
  },
  {
   "cell_type": "code",
   "execution_count": null,
   "id": "fca0f22e",
   "metadata": {},
   "outputs": [],
   "source": [
    "import numpy as np\n",
    "import matplotlib.pyplot as plt\n",
    "# Parameters\n",
    "T = 5\n",
    "a = -1/T\n",
    "x0 = 1\n",
    "t = 0\n",
    "tstart = 0\n",
    "tstop = 25\n",
    "increment = 1\n",
    "N = 25\n",
    "#t = np.arange(tstart,tstop+1,increment)\n",
    "#Alternative Approach\n",
    "t = np.linspace(tstart, tstop, ?)\n",
    "x = np.exp(a*t) * x0\n",
    "# Plot the Results\n",
    "plt.plot(t,x)\n",
    "plt.title('Plotting Differential Equation Solution')\n",
    "plt.xlabel('t')\n",
    "plt.ylabel('x(t)')\n",
    "plt.grid()\n",
    "plt.axis([0, 25, 0, 1])\n",
    "plt.show()"
   ]
  },
  {
   "cell_type": "markdown",
   "id": "fc0774a2",
   "metadata": {},
   "source": [
    "# ODE Solvers in Python"
   ]
  },
  {
   "cell_type": "markdown",
   "id": "bb068eb1",
   "metadata": {},
   "source": [
    "The scipy.integrate library has two powerful powerful\n",
    "functions; ode() and odeint(), for numerically solving first\n",
    "order ordinary differential equations (ODEs).\n",
    "\n",
    "• The ode() is more flexible, while odeint() (ODE integrator)\n",
    "has a simpler Python interface and works fine for most\n",
    "problems.\n",
    "\n",
    "• For details, see the SciPy documentation:\n",
    "• https://docs.scipy.org/doc/scipy/reference/generated/scipy.integrate.odeint.html\n",
    "• https://docs.scipy.org/doc/scipy0.14.0/reference/generated/scipy.integrate.ode.html"
   ]
  },
  {
   "cell_type": "code",
   "execution_count": null,
   "id": "710db6d1",
   "metadata": {},
   "outputs": [],
   "source": [
    "import numpy as np\n",
    "from scipy.integrate import odeint\n",
    "import matplotlib.pyplot as plt\n",
    "# Initialization\n",
    "tstart = 0\n",
    "tstop = 25\n",
    "increment = 1\n",
    "x0 = 1\n",
    "t = np.arange(tstart,?,increment)\n",
    "# Function that returns dx/dt\n",
    "def mydiff(x, t):\n",
    "    T = 5\n",
    "    a = -1/T\n",
    "    dxdt = a * x\n",
    "    return dxdt\n",
    "# Solve ODE\n",
    "x = odeint(?, x0, t)\n",
    "print(x)\n",
    "# Plot the Results\n",
    "plt.plot(t,x)\n",
    "plt.title('Plotting Differential Equation Solution')\n",
    "plt.xlabel('t')\n",
    "plt.ylabel('x(t)')\n",
    "plt.grid()\n",
    "plt.axis([0, 25, 0, 1])\n",
    "plt.show()"
   ]
  },
  {
   "cell_type": "markdown",
   "id": "b86ad2e4",
   "metadata": {},
   "source": [
    "Alternative: Passing argument (a)"
   ]
  },
  {
   "cell_type": "code",
   "execution_count": null,
   "id": "6bfceef1",
   "metadata": {},
   "outputs": [],
   "source": [
    "import numpy as np\n",
    "from scipy.integrate import odeint\n",
    "import matplotlib.pyplot as plt\n",
    "# Initialization\n",
    "T = 5\n",
    "a = -1/T\n",
    "tstart = 0\n",
    "tstop = 25\n",
    "increment = 1\n",
    "x0 = 1\n",
    "t = np.arange(tstart,?,increment)\n",
    "# Function that returns dx/dt\n",
    "def mydiff(x, t, a):\n",
    "    dxdt = a * x\n",
    "    return dxdt\n",
    "# Solve ODE\n",
    "x = odeint(?, x0, t, args=(a,))\n",
    "print(x)\n",
    "# Plot the Results\n",
    "plt.plot(t,x)\n",
    "plt.title('Plotting Differential Equation Solution')\n",
    "plt.xlabel('t')\n",
    "plt.ylabel('x(t)')\n",
    "plt.grid()\n",
    "plt.axis([0, 25, 0, 1])\n",
    "plt.show()"
   ]
  },
  {
   "cell_type": "code",
   "execution_count": null,
   "id": "44b7367d",
   "metadata": {},
   "outputs": [],
   "source": [
    "Try\n",
    "\n",
    "a = -0.2\n",
    "x = odeint(mydiff, x0, t, args=(a,))\n",
    "\n",
    "a = -0.1\n",
    "x = odeint(mydiff, x0, t, args=(a,))"
   ]
  },
  {
   "cell_type": "markdown",
   "id": "030d6836",
   "metadata": {},
   "source": [
    "Next level: all together,\n",
    "and change a=1/T where T was 5, to different values of \n",
    "\n",
    "T = Tsimulations = [2, 5, 10, 20]"
   ]
  },
  {
   "cell_type": "code",
   "execution_count": null,
   "id": "28fca064",
   "metadata": {},
   "outputs": [],
   "source": [
    "def mydiff1(x, t, a):\n",
    "    dxdt = a * x\n",
    "    return dxdt\n",
    "\n",
    "#Save the above function in “differential_equations.py“, then call\n",
    "#from differential_equations import mydiff1\n",
    "import numpy as np\n",
    "from scipy.integrate import odeint\n",
    "import matplotlib.pyplot as plt\n",
    "# Initialization\n",
    "Tsimulations = [2, 5, 10, 20]\n",
    "tstart = 0\n",
    "tstop = 25\n",
    "increment = 1\n",
    "x0 = ?\n",
    "t = np.arange(tstart,?,increment)\n",
    "for T in Tsimulations:\n",
    "    a = -1/T\n",
    "    # Solve ODE\n",
    "    x = odeint(?, x0, t, args=(a,))\n",
    "    #print(x)\n",
    "    # Plot the Results\n",
    "    plt.plot(t,x)\n",
    "plt.title('Plotting dxdt = -(1/T)*x')\n",
    "plt.xlabel('t')\n",
    "plt.ylabel('x(t)')\n",
    "plt.grid()\n",
    "plt.axis([0, 25, 0, 1])\n",
    "plt.legend([\"T=2\", \"T=5\", \"T=10\", \"T=20\"])\n",
    "plt.show()"
   ]
  },
  {
   "cell_type": "markdown",
   "id": "c7c384a6",
   "metadata": {},
   "source": [
    "For those students who are interested in Discretisation as Numerical Methods for ODEs:\n",
    "\n",
    "(Nothing to add)"
   ]
  },
  {
   "cell_type": "code",
   "execution_count": null,
   "id": "3610abf2",
   "metadata": {},
   "outputs": [],
   "source": [
    "import numpy as np\n",
    "import matplotlib.pyplot as plt\n",
    "# Model Parameters\n",
    "T = 5\n",
    "a = -1/T\n",
    "# Simulation Parameters\n",
    "Ts = 0.01\n",
    "Tstop = 25\n",
    "N = int(Tstop/Ts) # Simulation length\n",
    "x = np.zeros(N+2) # Initialization the x vector\n",
    "x[0] = 1 # Initial Condition\n",
    "# Simulation\n",
    "for k in range(N+1):\n",
    "    x[k+1] = (1 + a*Ts) * x[k]\n",
    "# Plot the Simulation Results\n",
    "t = np.arange(0,Tstop+2*Ts,Ts) # Create Time Series\n",
    "plt.plot(t,x)\n",
    "plt.title('Plotting Differential Equation Solution')\n",
    "plt.xlabel('t')\n",
    "plt.ylabel('x(t)')\n",
    "plt.grid()\n",
    "plt.axis([0, 25, 0, 1])\n",
    "plt.show()"
   ]
  },
  {
   "cell_type": "markdown",
   "id": "9b2816de",
   "metadata": {},
   "source": [
    "# Virus Simulations"
   ]
  },
  {
   "cell_type": "markdown",
   "id": "2d1b3789",
   "metadata": {},
   "source": [
    "In this example we will simulate a simple model of a viruses population in a jar.\n",
    "\n",
    "Birth rate: $b x$\n",
    "    \n",
    "Death rate: $ p x^2$\n",
    "    \n",
    "Then the total rate of change of virus population is:\n",
    "$\\dot{x} = b x -p x^2$\n",
    "\n",
    "\n",
    "Where $x$ is the number of viruses in the jar\n",
    "\n",
    "In the simulations we can set $b=1/hour$ and $p=0.5$ virus-hour.\n",
    "\n",
    "LEt's simulate the number of viruses in the lab after 1 h, assuming that initially there were 100 viruses present.\n"
   ]
  },
  {
   "cell_type": "code",
   "execution_count": null,
   "id": "ad00fb10",
   "metadata": {},
   "outputs": [],
   "source": [
    "import numpy as np\n",
    "from scipy.integrate import odeint\n",
    "import matplotlib.pyplot as plt\n",
    "\n",
    "# Initialization\n",
    "tstart = 0\n",
    "tstop = 1\n",
    "increment = 0.01\n",
    "x0 = ?\n",
    "t = np.arange(tstart,tstop+increment,increment)\n",
    "\n",
    "# Function that returns dx/dt\n",
    "def virusdiff(x, t):\n",
    "    b = ?\n",
    "    p = ?\n",
    "    dxdt = b * x - p * ?\n",
    "    return dxdt\n",
    "\n",
    "# Solve ODE\n",
    "x = odeint(virusdiff, x0, t)\n",
    "#print(x)\n",
    "\n",
    "# Plot the Results\n",
    "plt.plot(t,x)\n",
    "plt.title('Virus Simulation')\n",
    "plt.xlabel('t')\n",
    "plt.ylabel('x(t)')\n",
    "plt.grid()\n",
    "plt.axis([0, 1, 0, 100])\n",
    "plt.show()"
   ]
  },
  {
   "cell_type": "markdown",
   "id": "e41e2c2a",
   "metadata": {},
   "source": [
    "# Systems of differential equations"
   ]
  },
  {
   "cell_type": "markdown",
   "id": "633dbef7",
   "metadata": {},
   "source": [
    "Given the following system:\n",
    "\n",
    "\n",
    "$dx_1/dt = -x_2$\n",
    "\n",
    "$dx_2/dt=x_1$\n",
    "\n",
    "Let us simulate the system in Python.  The equations will be\n",
    "solved in the time span [−1 1] with initial values (x_1,x_2)_0=[1, 1]"
   ]
  },
  {
   "cell_type": "code",
   "execution_count": null,
   "id": "06c86511",
   "metadata": {
    "scrolled": true
   },
   "outputs": [],
   "source": [
    "import numpy as np\n",
    "from scipy.integrate import odeint\n",
    "import matplotlib.pyplot as plt\n",
    "# Initialization\n",
    "tstart = -1\n",
    "tstop = 1\n",
    "increment = 0.1\n",
    "x0 = ?\n",
    "t = np.arange(tstart,tstop+1,increment)\n",
    "\n",
    "# Function that returns dx/dt\n",
    "def mydiff(x, t):\n",
    "    dx1dt = -x[1]\n",
    "    dx2dt = x[0]\n",
    "    dxdt = [dx1dt,dx2dt]\n",
    "    return dxdt\n",
    "\n",
    "# Solve ODE\n",
    "x = odeint(?, x0, t)\n",
    "print(x)\n",
    "x1 = x[:,0]\n",
    "x2 = x[:,1]\n",
    "\n",
    "# Plot the Results\n",
    "plt.plot(t,x1)\n",
    "plt.plot(t,x2)\n",
    "plt.title('Simulation with 2 variables')\n",
    "plt.xlabel('t')\n",
    "plt.ylabel('x(t)')\n",
    "plt.grid()\n",
    "plt.axis([-1, 1, -1.5, 1.5])\n",
    "plt.legend([\"x1\", \"x2\"])\n",
    "plt.show()"
   ]
  },
  {
   "cell_type": "markdown",
   "id": "a620f5e4",
   "metadata": {},
   "source": []
  },
  {
   "cell_type": "markdown",
   "id": "fc8636da",
   "metadata": {},
   "source": [
    "# Solving Linear Equations "
   ]
  },
  {
   "cell_type": "markdown",
   "id": "eb20944e",
   "metadata": {},
   "source": [
    "Given the following linear equations:\n",
    "$$\n",
    "\\begin{gathered}\n",
    "x_1+2 x_2=5 \\\\\n",
    "3 x_1+4 x_2=6\n",
    "\\end{gathered}\n",
    "$$\n",
    "We want to put the equations on the following general form:\n",
    "$$\n",
    "A x=b\n",
    "$$\n",
    "This gives:\n",
    "$$\n",
    "A=\\left[\\begin{array}{ll}\n",
    "1 & 2 \\\\\n",
    "3 & 4\n",
    "\\end{array}\\right] \\quad b=\\left[\\begin{array}{l}\n",
    "5 \\\\\n",
    "6\n",
    "\\end{array}\\right] \\quad x=\\left[\\begin{array}{l}\n",
    "x_1 \\\\\n",
    "x_2\n",
    "\\end{array}\\right]\n",
    "$$\n",
    "The solution is given by:\n",
    "$$\n",
    "x=A^{-1} b\n",
    "$$"
   ]
  },
  {
   "cell_type": "code",
   "execution_count": null,
   "id": "83613ebc",
   "metadata": {},
   "outputs": [],
   "source": [
    "import numpy as np\n",
    "import numpy.linalg as la\n",
    "A = np.array([[1, 2],\n",
    "[3, 4]])\n",
    "b = np.array([[5],\n",
    "[6]])\n",
    "Ainv = la.inv(A)\n",
    "x = ?.dot(b)\n",
    "print(x)"
   ]
  },
  {
   "cell_type": "markdown",
   "id": "35381d89",
   "metadata": {},
   "source": [
    "We can also use the linalg.solve()function"
   ]
  },
  {
   "cell_type": "code",
   "execution_count": null,
   "id": "974cbc63",
   "metadata": {},
   "outputs": [],
   "source": [
    "import numpy as np\n",
    "A = np.array([[1, 2],\n",
    "[3, 4]])\n",
    "b = np.array([[5],[6]])\n",
    "x = np.linalg.solve(A, b)\n",
    "print(x)"
   ]
  },
  {
   "cell_type": "markdown",
   "id": "d24c79dc",
   "metadata": {},
   "source": [
    "Note! The A matrix must be square and of fullrank, i.e. the inverse matrix needs to exists."
   ]
  },
  {
   "cell_type": "code",
   "execution_count": null,
   "id": "e5861262",
   "metadata": {},
   "outputs": [],
   "source": [
    "#Non-Quadratic Example"
   ]
  },
  {
   "cell_type": "markdown",
   "id": "5fbd01d3",
   "metadata": {},
   "source": [
    "\n",
    "\n",
    "\n",
    "Given the following linear equations:\n",
    "$$\n",
    "\\begin{gathered}\n",
    "x_1+2 x_2=5 \\\\\n",
    "3 x_1+4 x_2=6 \\\\\n",
    "7 x_1+8 x_2=9\n",
    "\\end{gathered} \\quad \\text { We have } 3 \\text { equations and } 2 \\text { unknows }\\left(x_1, x_2\\right)\n",
    "$$\n",
    "We want to put the equations on the following general form:\n",
    "$$\n",
    "A x=b\n",
    "$$\n",
    "This gives:\n",
    "Note! The A matrix is not square, i.e. the inverse matrix does not to exists!\n",
    "$$\n",
    "A=\\left[\\begin{array}{ll}\n",
    "1 & 2 \\\\\n",
    "3 & 4 \\\\\n",
    "7 & 8\n",
    "\\end{array}\\right] \\quad b=\\left[\\begin{array}{l}\n",
    "5 \\\\\n",
    "6 \\\\\n",
    "9\n",
    "\\end{array}\\right] \\quad x=\\left[\\begin{array}{l}\n",
    "x_1 \\\\\n",
    "x_2\n",
    "\\end{array}\\right]\n",
    "$$\n",
    "\n",
    "\n",
    "Note! The A matrix is not square, i.e. the\n",
    "inverse matrix does not to exists!\n"
   ]
  },
  {
   "cell_type": "code",
   "execution_count": null,
   "id": "da8f5953",
   "metadata": {},
   "outputs": [],
   "source": [
    "import numpy as np\n",
    "A = np.array([[1, 2],\n",
    "[3, 4],\n",
    "[7, 8]])\n",
    "b = np.array([[5],\n",
    "[6],\n",
    "[9]])\n",
    "x = np.linalg.solve(A, b)\n",
    "print(x)"
   ]
  },
  {
   "cell_type": "markdown",
   "id": "f1f16dd2",
   "metadata": {},
   "source": [
    "Good error!\n",
    "\n",
    "\n",
    "This is because the A matrix is not square, i.e. the inverse matrix does not to exists!\n",
    "In many cases we cannot find the inverse matrix, e.g., when the matrix is not quadratic.\n",
    "Finding the inverse matrix for large matrices is also time-consuming.\n",
    "The numpy.linalg module has different functions that can handle this.\n",
    "\n"
   ]
  },
  {
   "cell_type": "code",
   "execution_count": null,
   "id": "a7893d09",
   "metadata": {},
   "outputs": [],
   "source": [
    "Let-s fix / try this:"
   ]
  },
  {
   "cell_type": "code",
   "execution_count": null,
   "id": "972e5123",
   "metadata": {},
   "outputs": [],
   "source": [
    "A = np.array([[1, 2],\n",
    "[3, 4],\n",
    "[7, 8]])\n",
    "b = np.array([[5],\n",
    "[6],\n",
    "[9]])\n",
    "x = np.linalg.lstsq(A, b, rcond=None)[0]\n",
    "print(x)"
   ]
  },
  {
   "cell_type": "markdown",
   "id": "0c25bd75",
   "metadata": {},
   "source": [
    "# Numerical Differentiation\n"
   ]
  },
  {
   "cell_type": "markdown",
   "id": "e507f05a",
   "metadata": {},
   "source": [
    "The Derivative\n",
    "\n",
    "• Numerical Differentiation\n",
    "\n",
    "• Python Examples\n",
    "\n",
    "It is assumed that already know about the\n",
    "derivative from mathematics courses and that\n",
    "you want to use Python to find numerical\n",
    "solutions\n",
    "\n",
    "\n",
    "We start to plot the function:\n",
    "$y(x)=x^2$\n",
    "\n",
    "Choose different incremental steps:\n",
    "\n",
    "increment = 0.1 , 1\n",
    "\n"
   ]
  },
  {
   "cell_type": "code",
   "execution_count": null,
   "id": "654e0b8d",
   "metadata": {},
   "outputs": [],
   "source": [
    "\n",
    "\n",
    "xstart = -2\n",
    "xstop = 2.1\n",
    "increment = ?\n",
    "\n",
    "x = np.arange(xstart,xstop,increment)\n",
    "y = ?\n",
    "\n",
    "plt.plot(x,y)\n",
    "\n",
    "xstart = -2\n",
    "xstop = 3\n",
    "increment = ?\n",
    "\n",
    "x = np.arange(xstart,xstop,increment)\n",
    "y = x**2;\n",
    "plt.plot(x,y, '-o')\n",
    "plt.title(\"y(x)\")"
   ]
  },
  {
   "cell_type": "markdown",
   "id": "ea6bf165",
   "metadata": {},
   "source": [
    "We will use numerical differentiation to find $dy/dx$ for $y(x)=x^2$,\n",
    "which means to calculate: dydx_num = np.diff(y) / np.diff(x);\n",
    "\n",
    "then\n",
    "we will also compare the result with the Exact Analytical Solution."
   ]
  },
  {
   "cell_type": "code",
   "execution_count": null,
   "id": "9944d6ac",
   "metadata": {},
   "outputs": [],
   "source": [
    "import numpy as np\n",
    "import matplotlib.pyplot as plt\n",
    "xstart = -2\n",
    "xstop = 4\n",
    "increment = 1\n",
    "x = np.arange(xstart,xstop,increment)\n",
    "y = x**2;\n",
    "\n",
    "# Exact/Analytical Solution\n",
    "dydx_exact = 2*x\n",
    "print(\"dydx_exact=\", dydx_exact)\n",
    "plt.plot(x, dydx_exact, 'o-')\n",
    "\n",
    "# Numerical Solution\n",
    "dydx_num = np.diff(y) / np.diff(x);\n",
    "print(\"dydx_num\", dydx_num)\n",
    "\n",
    "\n",
    "xstart = -2\n",
    "xstop = 3  # why is this number one unit less than xstop=4\n",
    "x = np.arange(xstart,xstop,increment)\n",
    "plt.plot(x, dydx_num, 'o-')\n",
    "plt.title(\"dy/dx\")\n",
    "plt.legend([\"Exact\", \"Numeric\"])"
   ]
  },
  {
   "cell_type": "markdown",
   "id": "a6389953",
   "metadata": {},
   "source": [
    "The accuracy of the results are not so\n",
    "good.\n",
    "\n",
    "• Can we expect better results when we\n",
    "increase number of data points?\n",
    "\n",
    "• Let's Try!"
   ]
  },
  {
   "cell_type": "code",
   "execution_count": null,
   "id": "03b5c245",
   "metadata": {},
   "outputs": [],
   "source": [
    "xstart = -2\n",
    "xstop = 2.1\n",
    "increment = ?\n",
    "x = np.arange(xstart,xstop,increment)\n",
    "y = x**2;\n",
    "# Exact/Analytical Solution\n",
    "dydx_exact = 2*x\n",
    "print(\"dydx_exact=\", dydx_exact)\n",
    "plt.plot(x, dydx_exact, 'o-')\n",
    "# Numerical Solution\n",
    "dydx_num = np.diff(y) / np.diff(x);\n",
    "print(\"dydx_num\", dydx_num)\n",
    "xstart = -2\n",
    "xstop = 2\n",
    "x2 = np.arange(xstart,xstop,increment)\n",
    "plt.plot(x2, dydx_num, 'o-')\n",
    "plt.title(\"dy/dx\")\n",
    "plt.legend([\"Exact\", \"Numeric\"])"
   ]
  },
  {
   "cell_type": "markdown",
   "id": "1230f205",
   "metadata": {},
   "source": [
    "We see that the numeric solutions becomes very close to the exact solutions. "
   ]
  },
  {
   "cell_type": "markdown",
   "id": "467a7bac",
   "metadata": {},
   "source": [
    "# Simulation of Mass-Spring-Damper System"
   ]
  },
  {
   "cell_type": "markdown",
   "id": "e5e5248e",
   "metadata": {},
   "source": [
    "$\\dot{x}_1=x_2$\n",
    "\n",
    "$ \\dot{x}_2=\\frac{1}{m}\\left(F-c x_2-k x_1\\right) $\n",
    "\n",
    "$ x_1=\\text { Position } $\n",
    "$ x_2=\\text { Velocity/Speed} $"
   ]
  },
  {
   "cell_type": "code",
   "execution_count": null,
   "id": "9a6f93d2",
   "metadata": {},
   "outputs": [],
   "source": [
    "import numpy as np\n",
    "from scipy.integrate import odeint\n",
    "import matplotlib.pyplot as plt\n",
    "# Initialization\n",
    "tstart = 0\n",
    "tstop = 60\n",
    "increment = 0.1\n",
    "# Initial condition\n",
    "x_init = [0,0]\n",
    "t = np.arange(tstart,tstop+1,increment)\n",
    "\n",
    "\n",
    "# Function that returns dx/dt\n",
    "def mydiff(x, t):\n",
    "    c = 4 # Damping constant\n",
    "    k = 2 # Stiffness of the spring\n",
    "    m = 20 # Mass\n",
    "    F = 5\n",
    "    dx1dt = x[1]\n",
    "    dx2dt = (F - c*x[1] - k*x[0])/m\n",
    "    dxdt = [dx1dt, dx2dt]\n",
    "    return dxdt\n",
    "\n",
    "\n",
    "# Solve ODE\n",
    "x = odeint(mydiff, x_init, t)\n",
    "x1 = x[:,0]\n",
    "x2 = x[:,1]\n",
    "\n",
    "# Plot the Results\n",
    "plt.plot(t,x1)\n",
    "plt.plot(t,x2)\n",
    "plt.title('Simulation of Mass-Spring-Damper System')\n",
    "plt.xlabel('t')\n",
    "plt.ylabel('x(t)')\n",
    "plt.legend([\"x1\", \"x2\"])\n",
    "plt.grid()\n",
    "plt.show()"
   ]
  },
  {
   "cell_type": "markdown",
   "id": "cd7f6367",
   "metadata": {},
   "source": [
    "# Differentiate polynomials:"
   ]
  },
  {
   "cell_type": "markdown",
   "id": "cb6b98ca",
   "metadata": {},
   "source": [
    "Given the following polynomial:\n",
    "    \n",
    "$\n",
    "p(x)=x^3+2 x^2-x+3\n",
    "$\n",
    "\n",
    "Note!!! In order to use it in Python, we reformulate:\n",
    "    \n",
    "$\n",
    "p(x)=3-x+2 x^2+x^3\n",
    "$\n",
    "We find:\n",
    "$\n",
    "\\frac{d p(x)}{d x}=0-1+4 x+3 x^2=-1+4 x+3 x^2\n",
    "$\n",
    "\n",
    "Use \n",
    "poly.polyder"
   ]
  },
  {
   "cell_type": "markdown",
   "id": "39fb1b6e",
   "metadata": {},
   "source": []
  },
  {
   "cell_type": "code",
   "execution_count": null,
   "id": "b4b008d2",
   "metadata": {},
   "outputs": [],
   "source": [
    "import numpy.polynomial.polynomial as poly\n",
    "\n",
    "p = [3, -1, 2, 1]\n",
    "dpdx = poly.?\n",
    "print(\"dpdx =\", dpdx)"
   ]
  },
  {
   "cell_type": "markdown",
   "id": "ce482d67",
   "metadata": {},
   "source": [
    "Wow! Don't forget to  reformulate to\n",
    "make it work with Python!\n",
    "\n",
    "\n",
    "Try to differentiate $p(x)=2+x^2$"
   ]
  },
  {
   "cell_type": "code",
   "execution_count": null,
   "id": "f7fddf31",
   "metadata": {},
   "outputs": [],
   "source": [
    "import numpy.polynomial.polynomial as poly\n",
    "#2+x^2\n",
    "pol = [?, ?, ?]\n",
    "dpdx = np.?\n",
    "print(\"dpdx =\", dpdx)"
   ]
  },
  {
   "cell_type": "code",
   "execution_count": null,
   "id": "8c85973b",
   "metadata": {},
   "outputs": [],
   "source": []
  }
 ],
 "metadata": {
  "kernelspec": {
   "display_name": "Python 3 (ipykernel)",
   "language": "python",
   "name": "python3"
  },
  "language_info": {
   "codemirror_mode": {
    "name": "ipython",
    "version": 3
   },
   "file_extension": ".py",
   "mimetype": "text/x-python",
   "name": "python",
   "nbconvert_exporter": "python",
   "pygments_lexer": "ipython3",
   "version": "3.10.9"
  }
 },
 "nbformat": 4,
 "nbformat_minor": 5
}
