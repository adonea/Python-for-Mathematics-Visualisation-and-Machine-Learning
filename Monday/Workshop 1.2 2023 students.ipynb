{
 "cells": [
  {
   "cell_type": "markdown",
   "id": "3f99bb47",
   "metadata": {},
   "source": [
    "# These are a few more examples of figures and plots, if you want to get fancier. All examples run, nothing to do apart of exploring."
   ]
  },
  {
   "cell_type": "code",
   "execution_count": null,
   "id": "c9cee7b3",
   "metadata": {},
   "outputs": [],
   "source": [
    "import matplotlib.pyplot as plt"
   ]
  },
  {
   "cell_type": "code",
   "execution_count": null,
   "id": "c39cad8b",
   "metadata": {},
   "outputs": [],
   "source": [
    "# Fancy graphs"
   ]
  },
  {
   "cell_type": "code",
   "execution_count": null,
   "id": "e48580a7",
   "metadata": {},
   "outputs": [],
   "source": [
    "#Useful for scientific writing, presentation of research graphs, for publication opf nice graphs."
   ]
  },
  {
   "cell_type": "code",
   "execution_count": null,
   "id": "e7dbdfe7",
   "metadata": {},
   "outputs": [],
   "source": [
    "x = np.linspace(0, 10,2, endpoint = False)  \n",
    "\n",
    "plt.plot(x, x + 0, linestyle='solid')\n",
    "plt.plot(x, x + 1, linestyle='dashed')\n",
    "plt.plot(x, x + 2, linestyle='dashdot')\n",
    "plt.plot(x, x + 3, linestyle='dotted');\n",
    "\n",
    "# For short, you can use the following codes:\n",
    "plt.plot(x, x + 4, linestyle='-')  # solid\n",
    "plt.plot(x, x + 5, linestyle='--') # dashed\n",
    "plt.plot(x, x + 6, linestyle='-.') # dashdot\n",
    "plt.plot(x, x + 7, linestyle=':');  # dotted"
   ]
  },
  {
   "cell_type": "code",
   "execution_count": null,
   "id": "0a78d10d",
   "metadata": {},
   "outputs": [],
   "source": [
    "#importing the required modules \n",
    "import matplotlib.pyplot as plt \n",
    "import numpy as np \n",
    "  \n",
    "# setting the x - coordinates \n",
    "x = np.arange(0, 2*(np.pi), 0.1) \n",
    "# setting the corresponding y - coordinates \n",
    "y = np.sin(x) \n",
    "\n",
    "# Setting the figure size\n",
    "plt.figure(figsize=(6,6))\n",
    "ax = plt.axes()\n",
    "\n",
    "# Setting the background color\n",
    "ax.set_facecolor(\"pink\")\n",
    "\n",
    "# potting the points \n",
    "plt.plot(x, y, 'o', color='black'); \n",
    "  \n",
    "# function to show the plot \n",
    "plt.show() "
   ]
  },
  {
   "cell_type": "code",
   "execution_count": null,
   "id": "f8f4ea46",
   "metadata": {},
   "outputs": [],
   "source": [
    "ax1 = plt.axes()  # standard axes\n",
    "ax2 = plt.axes([0.65, 0.65, 0.2, 0.2])"
   ]
  },
  {
   "cell_type": "code",
   "execution_count": null,
   "id": "84142ab4",
   "metadata": {},
   "outputs": [],
   "source": [
    "\n",
    "import matplotlib.pyplot as plt\n",
    "y = [1, 4, 9, 16, 25,36,49, 64]\n",
    "x1 = [1, 16, 30, 42,55, 68, 77,88]\n",
    "x2 = [1,6,12,18,28, 40, 52, 65]\n",
    "\n",
    "fig=plt.figure()\n",
    "fig.patch.set_facecolor('xkcd:mint green')\n",
    "\n",
    "\n",
    "# Setting the figure size\n",
    "#plt.figure(figsize=(6,6))\n",
    "#ax = plt.axes()\n",
    "\n",
    "# Setting the background color\n",
    "ax2 = plt.axes([0.65, 0.65, 0.2, 0.2])\n",
    "ax2.set_facecolor(\"blue\")\n",
    "\n",
    "#Add an axes at position rect [left, bottom, width, height]\n",
    "#where all quantities are in fractions of figure width and height. \n",
    "\n",
    "ax=fig.add_axes([0,0,0.5,0.5])\n",
    "\n",
    "l1=ax.plot(x1,y,'ys-') # solid line with yellow colour and square marker\n",
    "l2=ax.plot(x2,y,'go--') # dash line with green colour and circle marker\n",
    "ax.legend(labels=('aaaa', 'bbbbb'), loc='lower right') \n",
    "# legend placed at lower right\n",
    "ax.set_title(\"Title\")\n",
    "ax.set_xlabel('medium')\n",
    "ax.set_ylabel('XXXX')\n",
    "\n",
    "ax.grid(True, linestyle='-.')\n",
    "\n",
    "plt.show()\n",
    "\n",
    "\n"
   ]
  },
  {
   "cell_type": "code",
   "execution_count": null,
   "id": "73db888e",
   "metadata": {},
   "outputs": [],
   "source": [
    "import matplotlib.gridspec as gridspec\n",
    "\n",
    "fig2 = plt.figure(constrained_layout=True)\n",
    "spec2 = gridspec.GridSpec(ncols=2, nrows=2, figure=fig2)\n",
    "f2_ax1 = fig2.add_subplot(spec2[0, 0])\n",
    "f2_ax2 = fig2.add_subplot(spec2[0, 1])\n",
    "f2_ax3 = fig2.add_subplot(spec2[1, 0])\n",
    "f2_ax4 = fig2.add_subplot(spec2[1, 1])"
   ]
  },
  {
   "cell_type": "code",
   "execution_count": null,
   "id": "82d03b0a",
   "metadata": {},
   "outputs": [],
   "source": [
    "fig3 = plt.figure(constrained_layout=True)\n",
    "gs = fig3.add_gridspec(3, 3)\n",
    "f3_ax1 = fig3.add_subplot(gs[0, :])\n",
    "f3_ax1.set_title('gs[0, :]')\n",
    "f3_ax2 = fig3.add_subplot(gs[1, :-1])\n",
    "f3_ax2.set_title('gs[1, :-1]')\n",
    "f3_ax3 = fig3.add_subplot(gs[1:, -1])\n",
    "f3_ax3.set_title('gs[1:, -1]')\n",
    "f3_ax4 = fig3.add_subplot(gs[-1, 0])\n",
    "f3_ax4.set_title('gs[-1, 0]')\n",
    "f3_ax5 = fig3.add_subplot(gs[-1, -2])\n",
    "f3_ax5.set_title('gs[-1, -2]')"
   ]
  },
  {
   "cell_type": "code",
   "execution_count": null,
   "id": "781ce67e",
   "metadata": {},
   "outputs": [],
   "source": [
    "fig5 = plt.figure(constrained_layout=True)\n",
    "widths = [2, 3, 1.5]\n",
    "heights = [1, 3, 2]\n",
    "spec5 = fig5.add_gridspec(ncols=3, nrows=3, width_ratios=widths,\n",
    "                          height_ratios=heights)\n",
    "for row in range(3):\n",
    "    for col in range(3):\n",
    "        ax = fig5.add_subplot(spec5[row, col])\n",
    "        label = 'Width: {}\\nHeight: {}'.format(widths[col], heights[row])\n",
    "        ax.annotate(label, (0.1, 0.5), xycoords='axes fraction', va='center')\n",
    "\n"
   ]
  },
  {
   "cell_type": "code",
   "execution_count": null,
   "id": "ba6989a3",
   "metadata": {},
   "outputs": [],
   "source": [
    "fig8 = plt.figure(constrained_layout=False)\n",
    "gs1 = fig8.add_gridspec(nrows=3, ncols=3, left=0.05, right=0.48, wspace=0.05)\n",
    "f8_ax1 = fig8.add_subplot(gs1[:-1, :])\n",
    "f8_ax2 = fig8.add_subplot(gs1[-1, :-1])\n",
    "f8_ax3 = fig8.add_subplot(gs1[-1, -1])"
   ]
  },
  {
   "cell_type": "code",
   "execution_count": null,
   "id": "08a2f461",
   "metadata": {},
   "outputs": [],
   "source": []
  },
  {
   "cell_type": "code",
   "execution_count": null,
   "id": "b9753f89",
   "metadata": {},
   "outputs": [],
   "source": []
  }
 ],
 "metadata": {
  "kernelspec": {
   "display_name": "Python 3 (ipykernel)",
   "language": "python",
   "name": "python3"
  },
  "language_info": {
   "codemirror_mode": {
    "name": "ipython",
    "version": 3
   },
   "file_extension": ".py",
   "mimetype": "text/x-python",
   "name": "python",
   "nbconvert_exporter": "python",
   "pygments_lexer": "ipython3",
   "version": "3.10.9"
  }
 },
 "nbformat": 4,
 "nbformat_minor": 5
}
