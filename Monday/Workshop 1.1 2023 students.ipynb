{
 "cells": [
  {
   "cell_type": "markdown",
   "metadata": {},
   "source": [
    "#  Plotting in Python\n",
    "\n"
   ]
  },
  {
   "cell_type": "markdown",
   "metadata": {},
   "source": [
    "# Warm-up\n"
   ]
  },
  {
   "cell_type": "markdown",
   "metadata": {},
   "source": [
    "To be able to continue visualising graphs, functions, etc, we'll  import the numpy library  in order to easily manipulate arrays. \n",
    "\n",
    "Let  remind ourself the linspace function:\n",
    "\n",
    "numpy.linspace\n",
    "\n",
    "The NumPy linspace function (sometimes called np.linspace) is a tool in Python for creating numeric sequences.\n"
   ]
  },
  {
   "cell_type": "code",
   "execution_count": null,
   "metadata": {},
   "outputs": [],
   "source": [
    "import numpy\n",
    "numpy.linspace(2.0, 3.0, num=5)\n",
    "\n"
   ]
  },
  {
   "cell_type": "markdown",
   "metadata": {},
   "source": [
    "numpy.linspace(start, stop, num=50, endpoint=True, retstep=False, dtype=None, axis=0)\n",
    "\n",
    "It accepts the following parameters.\n",
    "\n",
    "start: It represents the starting value of the interval.\n",
    "\n",
    "stop:It represents the stopping value of the interval.\n",
    "\n",
    "num: The amount of evenly spaced samples over the interval to be generated. The default is 50.\n",
    "\n",
    "endpoint: Its true value indicates that the stopping value is included in the interval.\n",
    "\n",
    "rettstep: This has to be a boolean value. Represents the steps and samples between the consecutive numbers.\n",
    "\n",
    "dtype: It represents the data type of the array items.\n",
    "\n",
    "Return evenly spaced numbers over a specified interval."
   ]
  },
  {
   "cell_type": "markdown",
   "metadata": {},
   "source": [
    "You can import the library and define it as \"np\" (easy for working with)"
   ]
  },
  {
   "cell_type": "code",
   "execution_count": null,
   "metadata": {},
   "outputs": [],
   "source": [
    "import numpy as np  \n",
    "\n",
    "np.linspace(2.0, 3.0, num=5)\n"
   ]
  },
  {
   "cell_type": "code",
   "execution_count": null,
   "metadata": {},
   "outputs": [],
   "source": [
    " \n",
    "arr = np.linspace(10, 20, 5)  \n",
    "print(\"The array over the given range is \",arr)  "
   ]
  },
  {
   "cell_type": "code",
   "execution_count": null,
   "metadata": {},
   "outputs": [],
   "source": [
    "import numpy as np  \n",
    "arr = np.linspace(10, 20, 5, endpoint = False)  \n",
    "print(\"The array over the given range is \",arr)  "
   ]
  },
  {
   "cell_type": "code",
   "execution_count": null,
   "metadata": {},
   "outputs": [],
   "source": [
    "np.linspace(2.0, 3.0, num=5, endpoint=False)\n"
   ]
  },
  {
   "cell_type": "code",
   "execution_count": null,
   "metadata": {},
   "outputs": [],
   "source": [
    "np.linspace(2.0, 3.0, num=5, retstep=True)"
   ]
  },
  {
   "cell_type": "markdown",
   "metadata": {},
   "source": [
    "Print 30 values of $y=x^2$, $x\\in [-3,3]$:"
   ]
  },
  {
   "cell_type": "code",
   "execution_count": null,
   "metadata": {},
   "outputs": [],
   "source": [
    "from numpy import *\n",
    "x = ...\n",
    "print(x)\n",
    "\n",
    "y=....\n",
    "\n"
   ]
  },
  {
   "cell_type": "markdown",
   "metadata": {},
   "source": [
    "Another way of generating arrays for plotting :"
   ]
  },
  {
   "cell_type": "code",
   "execution_count": null,
   "metadata": {},
   "outputs": [],
   "source": [
    "numpy.arange(-10, 10, 0.01)"
   ]
  },
  {
   "cell_type": "markdown",
   "metadata": {},
   "source": [
    "The numpy supports arrays and matrices with many of the features that would be familiar to matlab users. See here quick summary of numpy for matlab users.Appart from the convenience, the numpy methods are also much faster at performing operations on matrices or arrays than performing arithmetic with numbers stored in lists."
   ]
  },
  {
   "cell_type": "code",
   "execution_count": null,
   "metadata": {},
   "outputs": [],
   "source": [
    "x = numpy.array([1,2,3,4,5])\n",
    "y = numpy.array([2*i for i in x])\n",
    "? # element wise addition: add x+ y"
   ]
  },
  {
   "cell_type": "markdown",
   "metadata": {},
   "source": [
    "Next step:\n",
    "\n",
    "Generate:\n",
    "    \n",
    "    x=[1 2 3 4 5 6 7 8 9 10]\n",
    "    \n",
    "    Pick up only the first 8 elements.\n",
    "    \n",
    "    Reshape the vector in a matrix X of size (4,2) --4 rows to look like:\n",
    "        \n",
    "       [[ 2,  4],\n",
    "       [ 6,  8],\n",
    "       [10, 12],\n",
    "       [14, 16]]\n",
    "    \n",
    "    Multiply the matrix X by a scalar 2\n",
    "    \n",
    "    \n",
    "    \n",
    "    "
   ]
  },
  {
   "cell_type": "code",
   "execution_count": null,
   "metadata": {},
   "outputs": [],
   "source": [
    "#Example\n",
    "X = x.reshape(2,2) # turn into a matrix/table\n",
    "? # multiply the matrix X by a scalar 2"
   ]
  },
  {
   "cell_type": "markdown",
   "metadata": {},
   "source": [
    "# Simple Calculations: Orbital Periods and Speed of Satellites"
   ]
  },
  {
   "cell_type": "markdown",
   "metadata": {},
   "source": [
    "Calculate the orbital period T and the speed v of a satellite in orbit around\n",
    "a massive object of mass M at a distance r from the centre of mass M."
   ]
  },
  {
   "cell_type": "markdown",
   "metadata": {},
   "source": [
    "$T=((4*pi^2)*r^3/(G*M))^{0.5}$"
   ]
  },
  {
   "cell_type": "code",
   "execution_count": null,
   "metadata": {},
   "outputs": [],
   "source": [
    "#Calculate the orbital period and the speed of a satellite in orbit around\n",
    "#a massive object of mass M at a distance r from the centre of mass M.\n",
    "#pi\n",
    "pi = 3.14159\n",
    "#gravitational constant in mks units\n",
    "G = 6.67300e-11 # m3 kg-1 s-2\n",
    "#get r and convert to float\n",
    "r = input('Enter radius r in metres and press return. ')\n",
    "r = float(r)\n",
    "#get M and convert to float\n",
    "M = input('Enter mass M in kilograms and press return. ')\n",
    "M = float(M)\n",
    "#This is the period in seconds\n",
    "T=?\n",
    "#The period in years is T divided by the number of seconds in a year.\n",
    "T_years = T/(365.0*24.0*60.0*60.0)\n",
    "#The speed for a circular orbit of radius r\n",
    "v = 2*pi*r/T\n",
    "print('set M = ', ?, 'kg and r = ', ?, 'metres.')\n",
    "print('The period is ', ?,'years and the speed is', ?,'m/s.')"
   ]
  },
  {
   "cell_type": "markdown",
   "metadata": {},
   "source": [
    "# Simple Radio activity:  (going forward in time)"
   ]
  },
  {
   "cell_type": "markdown",
   "metadata": {},
   "source": [
    "Using formula for radioactive decay, print activity in microcuries. \n",
    "\n",
    "$0.5^n = e^{-\\lambda t}$\n",
    "\n",
    "$0.5^n$ = fraction remaining\n",
    "\n",
    "One of the distinct advantages of the equation $A(t) = A_0 \\times 0.5^n$ is that we humans are linear\n",
    "thinkers and therefore multiplying 0.5 by itself n times is logical and easy to understand. \n",
    "\n",
    "Given $t_{1/2}=30$ half life in years \n",
    "\n",
    "$A(t) = A_0 \\times 2^{t_{elapsed}/t_{1/2}}= A_0 * fact$ , where the factor $fact =2^{t_{elapsed}/t_{1/2}}$\n",
    "\n",
    "Take $A_0=r=5$ and time step: deltat=10\n",
    "\n",
    "Write a code to print:\n",
    "\n",
    "print(\"Time is now\", ?, \"Activity is now\", ?) "
   ]
  },
  {
   "cell_type": "code",
   "execution_count": null,
   "metadata": {},
   "outputs": [],
   "source": [
    "# Using formula for radioactive decay, print activity in microcuries. \n",
    "#initial activity in microcuries \n",
    "r=5.0 \n",
    "\n",
    "#half life in years \n",
    "t12=30.0 \n",
    "\n",
    "#amount of time elapsed in years \n",
    "deltat=10\n",
    " \n",
    "#constant factor in decay formula \n",
    "fac = 0.5**(deltat/t12) \t \n",
    "\n",
    "print(\"Time is now\", 0., \"Activity is now\", r) \n",
    "r = r * fac\n",
    "print(\"Time is now\", ?, \"Activity is now\", r) \n",
    "r *= fac\n",
    "print(\"Time is now\", ?, \"Activity is now\", r)  \n",
    "r *= fac\n",
    "print(\"Time is now\", ?, \"Activity is now\", r)\n",
    "r *= fac\n",
    "print(\"Time is now\", ?, \"Activity is now\", r)\n",
    "r *= fac\n",
    "print(\"Time is now\", ?, \"Activity is now\", r)\n"
   ]
  },
  {
   "cell_type": "markdown",
   "metadata": {},
   "source": [
    "# Classical molecular dynamics "
   ]
  },
  {
   "cell_type": "markdown",
   "metadata": {},
   "source": [
    "Take the Lennard-Jones model for example, Pauli exclusion principle is repulsive, add total Lennard-Jones interaction is then the linear combination of these two terms.\n",
    "\n",
    "Nothing to do here."
   ]
  },
  {
   "cell_type": "code",
   "execution_count": null,
   "metadata": {},
   "outputs": [],
   "source": [
    "# Import matplotlib.pyplot as plt"
   ]
  },
  {
   "cell_type": "code",
   "execution_count": null,
   "metadata": {},
   "outputs": [],
   "source": [
    "import numpy as np\n",
    "\n",
    "import matplotlib.pyplot as plt\n",
    "\n",
    "%matplotlib inline\n",
    "def attractive(dr, b):\n",
    "    return -b / np.power(dr, 6)\n",
    "\n",
    "def repulsive(dr, a):\n",
    "    return a / np.power(dr, 12)\n",
    "\n",
    "def lj(dr, constants):\n",
    "    return repulsive(dr, constants[0]) + attractive(dr, constants[1])\n",
    "\n",
    "r = np.linspace(3e-10, 8e-10, 100)\n",
    "plt.plot(r, attractive(r, 9.273e-78), label='Attractive')\n",
    "plt.plot(r, repulsive(r, 1.363e-134), label='Repulsive')\n",
    "plt.plot(r, lj(r, [1.363e-134, 9.273e-78]), label='Lennard-Jones')\n",
    "plt.xlabel(r'$r_{ij}$/meters')\n",
    "plt.ylabel(r'$E- potential$/J')\n",
    "plt.legend()\n",
    "plt.show()\n"
   ]
  },
  {
   "cell_type": "markdown",
   "metadata": {},
   "source": [
    "#  2D plots"
   ]
  },
  {
   "cell_type": "code",
   "execution_count": null,
   "metadata": {},
   "outputs": [],
   "source": []
  },
  {
   "cell_type": "markdown",
   "metadata": {},
   "source": [
    "Aim:\n",
    "\n",
    "to  create suggestive and beautiful plots for some given data\n",
    "We will explore the basic plot interface using  matplotlib  and pylab interfaces.\n",
    "\n"
   ]
  },
  {
   "cell_type": "markdown",
   "metadata": {},
   "source": [
    "# the Matplotlib interface"
   ]
  },
  {
   "cell_type": "markdown",
   "metadata": {},
   "source": [
    "matplotlib documentation: http://matplotlib.org/\n",
    "The gallery shows a very nice set of visual examles.\n",
    "The plotting commands summary is a very useful reference."
   ]
  },
  {
   "cell_type": "markdown",
   "metadata": {},
   "source": [
    "\n",
    "\n",
    "Create a simple plot."
   ]
  },
  {
   "cell_type": "code",
   "execution_count": null,
   "metadata": {
    "scrolled": true
   },
   "outputs": [],
   "source": [
    "import matplotlib.pyplot as plt\n",
    "\n",
    "#using linspace generate x and y(s) and plot them with red dots\n",
    "\n",
    "x = np.linspace(-3, 3, 30)\n",
    "y = x**2\n",
    "\n",
    "\n",
    "plt.?(x, y, 'r.')\n",
    "plt.show()"
   ]
  },
  {
   "cell_type": "markdown",
   "metadata": {},
   "source": [
    "Exercise:\n",
    "    \n",
    "    Change the line style, using any other character from below"
   ]
  },
  {
   "cell_type": "markdown",
   "metadata": {},
   "source": [
    "# Line styles and filled areas"
   ]
  },
  {
   "cell_type": "markdown",
   "metadata": {},
   "source": [
    "Color codes\n",
    "Character Color\n",
    "‘b’ Blue\n",
    "‘g’ Green\n",
    "‘r’ Red\n",
    "‘c’ Cyan\n",
    "‘m’ Magenta\n",
    "‘y’ Yellow\n",
    "‘k’ Black\n",
    "‘w’ White\n",
    "\n",
    "Marker codes\n",
    "Character Description\n",
    "‘.’ Point marker\n",
    "‘o’ Circle marker\n",
    "‘x’ X marker\n",
    "‘D’ Diamond marker\n",
    "‘H’ Hexagon marker\n",
    "‘s’ Square marker\n",
    "‘+’ Plus marker\n",
    "\n",
    "Line styles\n",
    "Character Description\n",
    "‘-‘ Solid line\n",
    "‘—‘ Dashed line\n",
    "‘-.’ Dash-dot line\n",
    "‘:’ Dotted line\n",
    "\n",
    "For more information, view the documentation of the plot function. In IPython, this can be accomplished using the ? functionality:"
   ]
  },
  {
   "cell_type": "markdown",
   "metadata": {},
   "source": [
    "Note the generation of data for the next plot"
   ]
  },
  {
   "cell_type": "markdown",
   "metadata": {},
   "source": [
    "ys = 200 + np.random.randn(100)\n",
    "\n",
    "\n",
    "x = [x for x in range(len(ys))]\n",
    "\n",
    "Let's practice with this for a while:"
   ]
  },
  {
   "cell_type": "code",
   "execution_count": null,
   "metadata": {},
   "outputs": [],
   "source": [
    "ys = ? + np.random.randn(?)\n",
    "x = [x for x in range(len(ys))]\n",
    "\n",
    "plt.plot(x, ys, '-')\n",
    "plt.fill_between(x, ys, 195, where=(ys > 195), facecolor='g', alpha=0.6)\n",
    "\n",
    "plt.title(\"Fills and Alpha Example\")\n",
    "plt.?"
   ]
  },
  {
   "cell_type": "markdown",
   "metadata": {},
   "source": [
    "\n",
    "Exercise: Given the temperatures reading in consecutive days :\n",
    "26,27,27,27,27,27,27,27,27,27,26,26 plot the data with a continuous line on a graph with label. Add title and labels: ylabel('Temperature (°C)', color='#e74c3c')  ,  title('Temperature in Singapore', color='#34495e')\n"
   ]
  },
  {
   "cell_type": "markdown",
   "metadata": {},
   "source": [
    "# Add beautiful  labels to axes:"
   ]
  },
  {
   "cell_type": "code",
   "execution_count": null,
   "metadata": {},
   "outputs": [],
   "source": [
    "#Add labels\n",
    "import matplotlib.pyplot as plt\n",
    "plt.plot([1, 2, 3, 4], [1, 4, 9, 16])\n",
    "plt.xlabel('X values')\n",
    "plt.ylabel('Y values')\n",
    "plt.title(\"?\")\n",
    "plt.legend()\n",
    "plt.show()"
   ]
  },
  {
   "cell_type": "markdown",
   "metadata": {},
   "source": [
    "\n",
    "#Add the following to the above lines:\n",
    "    \n",
    "xlabel('x')\n",
    "\n",
    "ylabel('y')\n",
    "\n",
    "title('title')"
   ]
  },
  {
   "cell_type": "markdown",
   "metadata": {},
   "source": [
    "# Controlling style of text "
   ]
  },
  {
   "cell_type": "code",
   "execution_count": null,
   "metadata": {},
   "outputs": [],
   "source": [
    "\n",
    "font = {'family': 'serif',\n",
    "        'color':  'darkred',\n",
    "        'weight': 'normal',\n",
    "        'size': 16,\n",
    "        }\n",
    "\n",
    "x = np.linspace(0.0, 4.0, 100)\n",
    "y = np.cos(3*np.pi*x) * np.exp(-x)\n",
    "\n",
    "plt.plot(x, y, 'k')\n",
    "plt.title('Damped exponential decay', fontdict=font)\n",
    "plt.text(2, 0.65, r'$\\cos(3 \\pi t) \\exp(-t)$', fontdict=font)\n",
    "plt.xlabel('time (s)', fontdict=font)\n",
    "plt.ylabel('Amplitude (cm)', fontdict=font)"
   ]
  },
  {
   "cell_type": "markdown",
   "metadata": {},
   "source": [
    "Add also Greek letters to the graph: \n",
    "    \n",
    "    r'$\\alpha$',  label=r\"$y = \\alpha^3$\"\n",
    "    \n"
   ]
  },
  {
   "cell_type": "markdown",
   "metadata": {},
   "source": [
    "## Plot a sine function and save the plot as a *.png file"
   ]
  },
  {
   "cell_type": "markdown",
   "metadata": {},
   "source": [
    "Python number method sin() returns the sine of x, in radians. \n",
    "\n",
    "The sin() function:\n",
    "\n",
    "     -Takes an argument (x = number)\n",
    "     -and returns its sine in radians.\n",
    "     -It’s the part of math module, so this function cannot be used directly.\n",
    "     You have to import the math module in your Python program – as shown in the examples below.\n",
    "     To get the result in degrees, you may use the radians() function along with sin() as shown in the example in the later section of this tutorial."
   ]
  },
  {
   "cell_type": "code",
   "execution_count": null,
   "metadata": {},
   "outputs": [],
   "source": [
    "import math\n",
    "\n",
    "print (\"sin(3) : \",  math.sin(3))\n",
    "print (\"sin(-3) : \",  math.sin(-3))\n",
    "print (\"sin(0) : \",  math.sin(?))\n",
    "print (\"sin(pi) : \",  math.sin(?))\n",
    "print (\"sin(pi/2) : \",  math.sin(math.?))"
   ]
  },
  {
   "cell_type": "markdown",
   "metadata": {},
   "source": [
    "But we will not use the sine() from the math library. From now on, for graphying of a sin() function we have to use NumPy which is a general-purpose array-processing package in python.\n",
    "\n",
    "    -To set the x – axis values, we use np.arange() method in which first two arguments are for range and third one for step-wise increment. The result is a numpy array.\n",
    "    -To get corresponding y-axis values, we simply use predefined np.sin() method on the numpy array.\n",
    "    -Finally, we plot the points by passing x and y arrays to the plt.plot() function.\n",
    "\n",
    "The example below shows hot to use the sin() function from the numpy library; we want  to obtain the sine of a few numbers."
   ]
  },
  {
   "cell_type": "code",
   "execution_count": null,
   "metadata": {},
   "outputs": [],
   "source": [
    "x = np.arange(0, 2*(np.pi), 0.01) \n",
    "print(x)\n",
    "y=sin(x)\n",
    "print(y)\n"
   ]
  },
  {
   "cell_type": "markdown",
   "metadata": {},
   "source": [
    "Are there any differences?  sin(x), np.sin(x)"
   ]
  },
  {
   "cell_type": "code",
   "execution_count": null,
   "metadata": {},
   "outputs": [],
   "source": [
    "y=np.sin(x)\n",
    "print(y)"
   ]
  },
  {
   "cell_type": "markdown",
   "metadata": {},
   "source": [
    "Let's put everything together and generate an array x from 0 to 3 pi, in steps of 0.1; then generate sin(x) and plot the result"
   ]
  },
  {
   "cell_type": "code",
   "execution_count": null,
   "metadata": {},
   "outputs": [],
   "source": [
    "#importing the required modules \n",
    "import matplotlib.pyplot as plt \n",
    "import numpy as np \n",
    "  \n",
    "# setting the x - coordinates \n",
    "x = np.arange(0, ?, 0.1) \n",
    "# setting the corresponding y - coordinates \n",
    "y = np.sin(x) \n",
    "  \n",
    "# potting the points \n",
    "plt.plot(x, y) \n",
    "  \n",
    "# function to show the plot \n",
    "plt.show() \n",
    "\n"
   ]
  },
  {
   "cell_type": "markdown",
   "metadata": {},
   "source": [
    "# Save a graph to a file "
   ]
  },
  {
   "cell_type": "markdown",
   "metadata": {},
   "source": [
    "Add label, title and save the file! Saving your work is important if you want to publish your \n",
    "work or submit it into an assignment.\n",
    "\n",
    "Matplotlib allows the aspect ratio, DPI and figure size to be specified when the Figure object is created, using the figsize and dpi keyword arguments. figsize is a tuple of the width and height of the figure in inches, and dpi is the dots-per-inch (pixel per inch). \n",
    "\n",
    "\n",
    "Create an 800x400 pixel, 100 dots-per-inch figure:"
   ]
  },
  {
   "cell_type": "code",
   "execution_count": null,
   "metadata": {},
   "outputs": [],
   "source": [
    "fig = plt.figure(figsize=(8,4), dpi=100)\n",
    "\n"
   ]
  },
  {
   "cell_type": "code",
   "execution_count": null,
   "metadata": {},
   "outputs": [],
   "source": [
    "Create an 400x400 pixel, 100 dots-per-inch figure:"
   ]
  },
  {
   "cell_type": "markdown",
   "metadata": {},
   "source": [
    "The same arguments can also be passed to layout managers, such as the subplots function.\n",
    "\n",
    "Change the size of the figure to (5,3):\n"
   ]
  },
  {
   "cell_type": "code",
   "execution_count": null,
   "metadata": {},
   "outputs": [],
   "source": [
    "fig, axes = plt.subplots(figsize=(12,3))\n",
    "\n",
    "axes.plot(x, y, 'r')\n",
    "axes.set_xlabel('x')\n",
    "axes.set_ylabel('y')\n",
    "axes.set_title('title');\n"
   ]
  },
  {
   "cell_type": "markdown",
   "metadata": {},
   "source": [
    "Save the plot"
   ]
  },
  {
   "cell_type": "code",
   "execution_count": null,
   "metadata": {},
   "outputs": [],
   "source": [
    "\n",
    "plt.xlabel('x')\n",
    "plt.ylabel('y')\n",
    "plt.title('Save the plot ?')\n",
    "# potting the points \n",
    "plt.plot(x, y) \n",
    "  \n",
    "    \n",
    "plt.savefig('exemple_01.png', bbox_inches='tight')\n",
    "plt.show() \n"
   ]
  },
  {
   "cell_type": "code",
   "execution_count": null,
   "metadata": {},
   "outputs": [],
   "source": [
    "#Try to reverse the commands:\n",
    "    \n",
    "plt.show() \n",
    "plt.savefig('exemple_02.png', bbox_inches='tight')\n"
   ]
  },
  {
   "cell_type": "markdown",
   "metadata": {},
   "source": [
    "What happens?"
   ]
  },
  {
   "cell_type": "markdown",
   "metadata": {},
   "source": [
    "# Customizing the plot: "
   ]
  },
  {
   "cell_type": "markdown",
   "metadata": {},
   "source": [
    "To plot several lines with different styles, use the following commands:"
   ]
  },
  {
   "cell_type": "code",
   "execution_count": null,
   "metadata": {},
   "outputs": [],
   "source": [
    "import matplotlib.pyplot as plt\n",
    "import numpy as np\n",
    "x = np.arange(10)\n",
    "plt.plot(x, x, 'g')\n",
    "plt.plot(x, 2 * x, 'r--')\n",
    "plt.plot(x, 3 * x, 'g')\n",
    "plt.plot(x, 4 * x, 'bs')\n",
    "#plt.legend(['y = x', 'y = 2x', 'y = 3x', 'y = 4x'], loc= 'upper left')\n",
    "?"
   ]
  },
  {
   "cell_type": "markdown",
   "metadata": {},
   "source": [
    "Exercise: uncomment the legend line (we learn more about legends soon)"
   ]
  },
  {
   "cell_type": "markdown",
   "metadata": {},
   "source": [
    "Exercise: Plot sin(x), sin(2x) and sin(3x) on the same plot, add a legend, use different colours for each curve."
   ]
  },
  {
   "cell_type": "markdown",
   "metadata": {},
   "source": [
    "More customization:"
   ]
  },
  {
   "cell_type": "code",
   "execution_count": null,
   "metadata": {},
   "outputs": [],
   "source": [
    "import matplotlib.pyplot as plt \n",
    "  \n",
    "# x axis values \n",
    "x = [1,2,3,4,5,6] \n",
    "# corresponding y axis values \n",
    "y = [2,4,1,5,2,6] \n",
    "  \n",
    "# plotting the points  \n",
    "plt.plot(x, y, color='green', linestyle='dashed', linewidth = 3, \n",
    "         marker='o', markerfacecolor='blue', markersize=12) \n",
    "  \n",
    "# setting x and y axis range \n",
    "plt.ylim(1,8) \n",
    "plt.xlim(1,8) \n",
    "  \n",
    "# naming the x axis \n",
    "plt.xlabel('x - axis') \n",
    "# naming the y axis \n",
    "plt.ylabel('y - axis') \n",
    "  \n",
    "# giving a title to my graph \n",
    "plt.title('Some cool customizations!') \n",
    "  \n",
    "# function to show the plot \n",
    "plt.show() "
   ]
  },
  {
   "cell_type": "code",
   "execution_count": null,
   "metadata": {},
   "outputs": [],
   "source": []
  },
  {
   "cell_type": "markdown",
   "metadata": {},
   "source": [
    "# Legend, size of figure and subplots"
   ]
  },
  {
   "cell_type": "markdown",
   "metadata": {},
   "source": [
    "Change font of axes to 18 , papers and articles have small numbers!!!!!\n",
    "\n",
    "Also make\n",
    "\n",
    "subplots(row=1, row=3, figsize=(12, 4))"
   ]
  },
  {
   "cell_type": "code",
   "execution_count": null,
   "metadata": {},
   "outputs": [],
   "source": [
    "import matplotlib.pyplot as plt\n",
    "\n",
    "## Update the matplotlib configuration parameters:\n",
    "plt.rcParams.update({'font.size': 9, 'text.usetex': True})\n"
   ]
  },
  {
   "cell_type": "markdown",
   "metadata": {},
   "source": [
    "Alternatively, we can request that matplotlib uses LaTeX to render the text elements in the figure:\n",
    "    \n",
    " #matplotlib.rcParams.update({'font.size': 18, 'text.usetex': True})"
   ]
  },
  {
   "cell_type": "code",
   "execution_count": null,
   "metadata": {},
   "outputs": [],
   "source": [
    "x = np.linspace(?,?,?)"
   ]
  },
  {
   "cell_type": "code",
   "execution_count": null,
   "metadata": {},
   "outputs": [],
   "source": [
    "\n",
    "fig, axes = plt.subplots(?, ?, figsize=(?, ?))\n",
    "\n",
    "axes[0].plot(x, x**2, x, x**3)\n",
    "axes[0].set_title(\"default axes ranges\")\n",
    "\n",
    "axes[1].plot(x, x**2, x, x**3)\n",
    "axes[1].axis('tight')\n",
    "axes[1].set_title(\"tight axes\")\n",
    "axes[1].grid(color='b', alpha=0.5, linestyle='dashed', linewidth=0.5)\n",
    "\n",
    "axes[2].plot(x, x**2, x, x**3)\n",
    "axes[2].set_ylim([0, 60])\n",
    "axes[2].set_xlim([2, 5])\n",
    "axes[2].set_title(\"custom axes range\");"
   ]
  },
  {
   "cell_type": "markdown",
   "metadata": {},
   "source": [
    "\n",
    "\n",
    "We can also specify the size of the figure using method figure() and passing the values as a tuple of the length of rows and columns to the argument figsize:\n",
    "\n",
    "fig = plt.figure(figsize=(15,5))\n",
    "\n",
    "\n",
    "Multiple plots in one figure:\n",
    "We can also use subplot() method to add more than one plots in one figure. In the image below, we used this method:\n"
   ]
  },
  {
   "cell_type": "code",
   "execution_count": null,
   "metadata": {},
   "outputs": [],
   "source": [
    "import numpy as np\n",
    "\n",
    "t = np.arange(0.0, 2.0, 0.01)\n",
    "s1 = np.sin(2*np.pi*t)\n",
    "s2 = np.sin(4*np.pi*t)"
   ]
  },
  {
   "cell_type": "code",
   "execution_count": null,
   "metadata": {},
   "outputs": [],
   "source": [
    "plt.figure(1)\n",
    "plt.subplot(211)\n",
    "#plot s1 versus t\n",
    "plt.plot(?)\n",
    "plt.subplot(212)\n",
    "#plot s2 versus t\n",
    "plt.plot(t, ?)"
   ]
  },
  {
   "cell_type": "markdown",
   "metadata": {},
   "source": [
    "The subplot() method takes three arguments: they are nrows, ncols and index. They indicate the number of rows, number of columns and the index number of the sub-plot. For instance, in our example, we want to create one little legend (subplot(111))\n",
    "\n",
    "\n",
    "Sometimes it is helpful to compare different views of data side by side. To this end, Matplotlib has the concept of subplots: groups of smaller axes that can exist together within a single figure. These subplots might be insets, grids of plots, or other more complicated layouts. In this section we'll explore four routines for creating subplots in Matplotlib. Read more: https://jakevdp.github.io/PythonDataScienceHandbook/04.08-multiple-subplots.html"
   ]
  },
  {
   "cell_type": "markdown",
   "metadata": {},
   "source": [
    "Let us try another example, with a legend inside the plot; save the plot.\n"
   ]
  },
  {
   "cell_type": "code",
   "execution_count": null,
   "metadata": {},
   "outputs": [],
   "source": [
    "import matplotlib\n",
    "import matplotlib.pyplot as plt\n",
    "import numpy as np\n",
    "\n",
    "y = [2,4,6,8,10,12,14,16,18,20]\n",
    "x = np.arange(10)\n",
    "fig = plt.figure(figsize=(15,5))\n",
    "#makes a small subplot for the legend:\n",
    "ax = plt.subplot(111)\n",
    "ax.plot(x, y, label='$y = numbers')\n",
    "#add a title\n",
    "plt.title('Legend inside')\n",
    "#add the legend\n",
    "ax.legend()\n",
    "#plt.show()\n",
    "\n",
    "fig.savefig('plot.png')"
   ]
  },
  {
   "cell_type": "markdown",
   "metadata": {},
   "source": [
    "Task:\n",
    "\n",
    "\n",
    "Plot two graphs in one figure:\n",
    "\n",
    "f(t)=np.exp(-t) * np.cos(2*np.pi*t)\n",
    "\n",
    "cos(2*np.pi*t2) only\n",
    "\n",
    "Then add a second figure using:\n",
    "\n",
    "plt.figure(2)                # a second figure\n",
    "plt.plot([4,5,6]) "
   ]
  },
  {
   "cell_type": "code",
   "execution_count": null,
   "metadata": {},
   "outputs": [],
   "source": [
    "import numpy as np\n",
    "import matplotlib.pyplot as plt\n",
    "\n",
    "def f(t):\n",
    "    return np.exp(-t) * np.cos(2*np.pi*t)\n",
    "\n",
    "t1 = np.arange(0.0, 5.0, 0.1)\n",
    "\n",
    "plt.figure(1)\n",
    "plt.subplot(211)\n",
    "plt.plot(t1, f(t1))\n",
    "\n",
    "plt.subplot(212)\n",
    "plt.plot(t1, np.cos(2*np.pi*t1), 'r--')\n",
    "\n",
    "# a second figure\n",
    "\n",
    "plt.figure(2)                # a second figure\n",
    "plt.plot([4,5,6])            # creates a subplot(111) by default\n",
    "plt.title('Second figure') \n",
    "\n",
    "#if you forgot to add something to the first figure, go back to figure 1\n",
    "plt.figure(1)                # figure 1 current; subplot(212) still current\n",
    "plt.subplot(211)             # make subplot(211) in figure1 current\n",
    "plt.title('Easy as 1,2,3')   # subplot 211 title\n",
    "\n",
    "plt.show()"
   ]
  },
  {
   "cell_type": "markdown",
   "metadata": {},
   "source": [
    "Exercise: Plot three figures in a raw, each representing one of the functions: cos(x), tan(x), exp(x). \n",
    "\n",
    "Remember: The subplot() method takes three arguments: they are nrows, ncols and index. They indicate the number of rows, number of columns and the index number of the sub-plot. "
   ]
  },
  {
   "cell_type": "markdown",
   "metadata": {},
   "source": [
    "# Scientific notation"
   ]
  },
  {
   "cell_type": "code",
   "execution_count": null,
   "metadata": {},
   "outputs": [],
   "source": [
    "fig, ax = plt.subplots(1, 1)\n",
    "      \n",
    "ax.plot(x, x**2, x, np.exp(x))\n",
    "ax.set_title(\"scientific notation\")\n",
    "\n",
    "ax.set_yticks([0, 50, 100, 150])\n",
    "\n",
    "from matplotlib import ticker\n",
    "formatter = ticker.ScalarFormatter(useMathText=True)\n",
    "formatter.set_scientific(True) \n",
    "formatter.set_powerlimits((-1,1)) \n",
    "ax.yaxis.set_major_formatter(formatter) "
   ]
  },
  {
   "cell_type": "markdown",
   "metadata": {},
   "source": [
    "# Twin axes"
   ]
  },
  {
   "cell_type": "markdown",
   "metadata": {},
   "source": [
    "it is useful to have dual x or y axes in a figure; for example, when plotting curves with different units together. Matplotlib supports this with the twinx and twiny functions:\n"
   ]
  },
  {
   "cell_type": "code",
   "execution_count": null,
   "metadata": {},
   "outputs": [],
   "source": [
    "import matplotlib.pyplot as plt\n",
    "import numpy as np\n",
    "\n",
    "fig, ax1 = plt.subplots()\n",
    "\n",
    "ax1.plot(x, x**2, lw=2, color=\"blue\")\n",
    "ax1.set_ylabel(r\"area $(m^2)$\", fontsize=18, color=\"blue\")\n",
    "for label in ax1.get_yticklabels():\n",
    "    label.set_color(\"blue\")\n",
    "    \n",
    "ax2 = ax1.twinx()\n",
    "ax2.plot(x, x**3, lw=2, color=\"red\")\n",
    "ax2.set_ylabel(r\"volume $(m^3)$\", fontsize=18, color=\"red\")\n",
    "for label in ax2.get_yticklabels():\n",
    "    label.set_color(\"red\")\n",
    "\n"
   ]
  },
  {
   "cell_type": "markdown",
   "metadata": {},
   "source": [
    "\n",
    "Exercise: Define a function f(x)=Exp[-x]*cos(2 pi x)\n",
    "\n",
    "    \n",
    "Replace x**3 graph with f(x)\n",
    "\n",
    "Add them on the same plot, with separate axes as above."
   ]
  },
  {
   "cell_type": "markdown",
   "metadata": {},
   "source": [
    "## Use of define function  to plot a function"
   ]
  },
  {
   "cell_type": "markdown",
   "metadata": {},
   "source": [
    "It's easy to implement  functions in Python. As an example we define the polynomial function, i.e. $p(x)=x^4−4⋅x^2+3⋅x$\n",
    "\n"
   ]
  },
  {
   "cell_type": "code",
   "execution_count": null,
   "metadata": {},
   "outputs": [],
   "source": [
    "def p(x):\n",
    "    return x**4 - 4*x**2 + 3*x"
   ]
  },
  {
   "cell_type": "code",
   "execution_count": null,
   "metadata": {},
   "outputs": [],
   "source": [
    "for x in [-1, 0, 2, 3.4]:\n",
    "    print(x, p(x))"
   ]
  },
  {
   "cell_type": "code",
   "execution_count": null,
   "metadata": {},
   "outputs": [],
   "source": [
    "import numpy as np\n",
    "import matplotlib.pyplot as plt\n",
    "\n",
    "X = np.linspace(-3, 3, 50, endpoint=True)\n",
    "F = p(X)\n",
    "plt.plot(X,F)\n",
    "\n",
    "plt.show()"
   ]
  },
  {
   "cell_type": "markdown",
   "metadata": {},
   "source": [
    "# Anscombe's quartet"
   ]
  },
  {
   "cell_type": "markdown",
   "metadata": {},
   "source": [
    "Anscombe's quartet comprises four data sets that have nearly identical simple descriptive statistics, yet have very different distributions and appear very different when graphed. "
   ]
  },
  {
   "cell_type": "code",
   "execution_count": null,
   "metadata": {},
   "outputs": [],
   "source": [
    "import matplotlib.pyplot as plt\n",
    "import numpy as np\n",
    "\n",
    "x = [10, 8, 13, 9, 11, 14, 6, 4, 12, 7, 5]\n",
    "y1 = [8.04, 6.95, 7.58, 8.81, 8.33, 9.96, 7.24, 4.26, 10.84, 4.82, 5.68]\n",
    "y2 = [9.14, 8.14, 8.74, 8.77, 9.26, 8.10, 6.13, 3.10, 9.13, 7.26, 4.74]\n",
    "y3 = [7.46, 6.77, 12.74, 7.11, 7.81, 8.84, 6.08, 5.39, 8.15, 6.42, 5.73]\n",
    "x4 = [8, 8, 8, 8, 8, 8, 8, 19, 8, 8, 8]\n",
    "y4 = [6.58, 5.76, 7.71, 8.84, 8.47, 7.04, 5.25, 12.50, 5.56, 7.91, 6.89]\n",
    "\n",
    "datasets = {\n",
    "    'I': ?,\n",
    "    'II': ?,\n",
    "    'III': ?,\n",
    "    'IV': ?\n",
    "}\n",
    "\n",
    "fig, axs = plt.subplots(2, 2, sharex=True, sharey=True, figsize=(6, 6),\n",
    "                        gridspec_kw={'wspace': 0.08, 'hspace': 0.08})\n",
    "axs[0, 0].set(xlim=(0, 20), ylim=(2, 14))\n",
    "axs[0, 0].set(xticks=(0, 10, 20), yticks=(4, 8, 12))\n",
    "\n",
    "for ax, (label, (x, y)) in zip(axs.flat, datasets.items()):\n",
    "    ax.text(0.1, 0.9, label, fontsize=20, transform=ax.transAxes, va='top')\n",
    "    ax.tick_params(direction='in', top=True, right=True)\n",
    "    ax.plot(x, y, 'o')\n",
    "\n",
    "    # linear regression\n",
    "    p1, p0 = np.?(x, y, deg=1)  # slope, intercept, use polyfit\n",
    "    ax.axline(xy1=(0, p0), slope=p1, color='?', lw=2) #use red colour\n",
    "\n",
    "    # add text box for the statistics\n",
    "    stats = (f'$\\\\mu$ = {np.?(y):.2f}\\n'  #add mean value\n",
    "             f'$\\\\sigma$ = {np.?(y):.2f}\\n' #add standard deviation\n",
    "             f'$r$ = {np.corrcoef(x, y)[0][1]:.2f}')\n",
    "    bbox = dict(boxstyle='round', fc='blanchedalmond', ec='orange', alpha=0.5)\n",
    "    ax.text(0.95, 0.07, stats, fontsize=9, bbox=bbox,\n",
    "            transform=ax.transAxes, horizontalalignment='right')\n",
    "\n",
    "plt.show()"
   ]
  },
  {
   "cell_type": "code",
   "execution_count": null,
   "metadata": {},
   "outputs": [],
   "source": [
    "References:\n",
    "    \n",
    "    https://en.wikipedia.org/wiki/Anscombe%27s_quartet\n",
    "    \n",
    "    https://matplotlib.org/stable/gallery/specialty_plots/anscombe.html#sphx-glr-gallery-specialty-plots-anscombe-py\n",
    "        "
   ]
  },
  {
   "cell_type": "markdown",
   "metadata": {},
   "source": [
    "# A fancy plot"
   ]
  },
  {
   "cell_type": "code",
   "execution_count": null,
   "metadata": {},
   "outputs": [],
   "source": [
    "import matplotlib.pyplot as plt\n",
    "y = [1, 4, 9, 16, 25,36,49, 64]\n",
    "x1 = [1, 16, 30, 42,55, 68, 77,88]\n",
    "x2 = [1,6,12,18,28, 40, 52, 65]\n",
    "\n",
    "fig=plt.figure()\n",
    "fig.patch.set_facecolor('xkcd:mint green')\n",
    "\n",
    "\n",
    "#Add an axes at position rect [left, bottom, width, height]\n",
    "#where all quantities are in fractions of figure width and height. \n",
    "\n",
    "ax=fig.add_axes([0,0,0.5,0.5])\n",
    "\n",
    "l1=ax.plot(x1,y,'ys-') # solid line with yellow colour and square marker\n",
    "l2=ax.plot(x2,y,'go--') # dash line with green colour and circle marker\n",
    "ax.legend(labels=('Beans', 'Onion'), loc='lower right') \n",
    "# legend placed at lower right\n",
    "ax.set_title(\"Seedlings growth\")\n",
    "ax.set_xlabel('Water (ml)')\n",
    "ax.set_ylabel('Days')\n",
    "\n",
    "ax.grid(True, linestyle='-.')\n",
    "\n",
    "plt.show()"
   ]
  },
  {
   "cell_type": "markdown",
   "metadata": {},
   "source": [
    "Exercise: Plot an exponential function \n",
    "y=e^x and y=e^2x on a similar plot as the fancy one.  We will plot it over the interval -2 to 2, add any title and label the axes. Move your legend in a different corner, and choose your markers."
   ]
  },
  {
   "cell_type": "markdown",
   "metadata": {},
   "source": [
    "# Create a plot of a polynomial"
   ]
  },
  {
   "cell_type": "markdown",
   "metadata": {},
   "source": [
    "This requires four steps:\n",
    "\n",
    "Define the polynomial\n",
    "Generate an array of x points for the range of the polynomial of interest\n",
    "Evaluate the polynomial at each point of the x array\n",
    "Plot the function"
   ]
  },
  {
   "cell_type": "markdown",
   "metadata": {},
   "source": [
    "Polynomials can be represented as a list of coefficients. For example, the polynomial $4*x^3 + 3*x^2 -2*x + 10 = 0$ can be represented as [4, 3, -2, 10]. Here are some ways to create a polynomial object, and evaluate it."
   ]
  },
  {
   "cell_type": "code",
   "execution_count": null,
   "metadata": {},
   "outputs": [],
   "source": [
    "%matplotlib inline\n",
    "\n",
    "\n",
    "#Define the polynomial p= 4x^2 + 3x - 10\n",
    "\n",
    "p=np.poly1d([4,3,-10])\n",
    "\n",
    "#Create an x array between -5 and 5\n",
    "\n",
    "x=np.linspace(-5, 5, 100)\n",
    "\n",
    "#Create a second array by evaluating the polynomial for each point in the x array\n",
    "\n",
    "y = p(x)\n",
    "\n",
    "#Plot x against y\n",
    "\n",
    "plt.plot(x,y)\n",
    "plt.grid()"
   ]
  },
  {
   "cell_type": "markdown",
   "metadata": {},
   "source": [
    "Note that the last two steps could be combined as “plot(x,p(x))”."
   ]
  },
  {
   "cell_type": "markdown",
   "metadata": {},
   "source": [
    "# The roots of a polynomial"
   ]
  },
  {
   "cell_type": "markdown",
   "metadata": {},
   "source": [
    "The solutions of the equation p(x) = 0 are called the roots of a polynomial p. Written in the form (x-q)(x-r)=0, q and r are the roots.  An nth order polynomial has n roots.  Wherever the polynomial crosses the x axis, it has a real root. If it touches the x axis, it has two (or more) coincident real roots. If an n-th order polynomial has fewer than n real roots, the remaining roots are complex.\n",
    "\n",
    "To find the roots of the polynomial p that we defined above, type"
   ]
  },
  {
   "cell_type": "code",
   "execution_count": null,
   "metadata": {},
   "outputs": [],
   "source": [
    "Write a NumPy program to find the roots of the following polynomials.\n",
    "a) x^2 − 2x + 1.\n",
    "b) x^2 + 1 = 0"
   ]
  },
  {
   "cell_type": "code",
   "execution_count": null,
   "metadata": {},
   "outputs": [],
   "source": [
    "import numpy as np\n",
    "print(\"Roots of the first polynomial:\")\n",
    "print(np.?([1, -2, 1]))\n",
    "\n",
    "\n",
    "print(\"Roots of the second polynomial:\")\n",
    "# note that imaginary roots exist, e.g. x^2 + 1 = 0 has two roots, +-i\n",
    "p = np.poly1d([1, 0, 1])\n",
    "print(np.?(p))\n"
   ]
  },
  {
   "cell_type": "markdown",
   "metadata": {},
   "source": [
    "# Generate a polynomial from its roots"
   ]
  },
  {
   "cell_type": "markdown",
   "metadata": {},
   "source": [
    "There are applications of polynomials in thermodynamics. The van der waal equation is a cubic polynomial $$f(V) = V^3 - \\frac{p n b + n R T}{p} V^2 + \\frac{n^2 a}{p}V - \\frac{n^3 a b}{p} = 0$$, where \\(a\\)  and \\(b\\) are constants, \\(p\\) is the pressure, \\(R\\) is the gas constant, \\(T\\) is an absolute temperature and \\(n\\) is the number of moles. The roots of this equation tell you the volume of the gas at those conditions."
   ]
  },
  {
   "cell_type": "code",
   "execution_count": null,
   "metadata": {},
   "outputs": [],
   "source": [
    "\n",
    "import numpy as np\n",
    "# numerical values of the constants\n",
    "a = 3.49e4\n",
    "b = 1.45\n",
    "p = 679.7   # pressure in psi\n",
    "T = 683     # T in Rankine\n",
    "n = 1.136   # lb-moles\n",
    "R = 10.73       # ft^3 * psi /R / lb-mol\n",
    "\n",
    "ppar = [1.0, -(p*n*b+n*R*T)/p, n**2*a/p,  -n**3*a*b/p];\n",
    "print (np.roots(ppar))"
   ]
  },
  {
   "cell_type": "markdown",
   "metadata": {},
   "source": [
    "Note that only one root is real (and even then, we have to interpet 0.j as not being imaginary. Also, in a cubic polynomial, there can only be two imaginary roots). In this case that means there is only one phase present."
   ]
  },
  {
   "cell_type": "markdown",
   "metadata": {},
   "source": []
  },
  {
   "cell_type": "code",
   "execution_count": null,
   "metadata": {},
   "outputs": [],
   "source": [
    "Make your own cubic polynomial and find its roots."
   ]
  },
  {
   "cell_type": "markdown",
   "metadata": {},
   "source": [
    "# Animation (advanced)"
   ]
  },
  {
   "cell_type": "markdown",
   "metadata": {},
   "source": [
    "## First example"
   ]
  },
  {
   "cell_type": "markdown",
   "metadata": {},
   "source": [
    "For the animation, we need to have the animatplot library installed: (pip3 install animaplot) or use anaconda to install it."
   ]
  },
  {
   "cell_type": "code",
   "execution_count": null,
   "metadata": {},
   "outputs": [],
   "source": [
    "#matplotlib inline\n",
    "import matplotlib.pyplot as plt\n",
    "plt.rcParams[\"animation.html\"] = \"jshtml\"\n",
    "import matplotlib.animation\n",
    "import numpy as np\n",
    "\n",
    "t = np.linspace(0,2*np.pi)\n",
    "x = np.sin(t)\n",
    "\n",
    "fig, ax = plt.subplots()\n",
    "l, = ax.plot([0,2*np.pi],[-1,10])\n",
    "\n",
    "animate = lambda i: l.set_data(t[:i], x[:i])\n",
    "\n",
    "ani = matplotlib.animation.FuncAnimation(fig, animate, frames=len(t))\n",
    "ani"
   ]
  },
  {
   "cell_type": "markdown",
   "metadata": {},
   "source": [
    "Here we'll just create a basic example of an animated sine wave.\n",
    "\n",
    "Here it's vital that we don't use the inline mode, because the inline figures are static."
   ]
  },
  {
   "cell_type": "markdown",
   "metadata": {},
   "source": [
    "Exercise: Modify the above code to change the function to travel   to\n",
    "\n",
    "the left rather than to the right."
   ]
  },
  {
   "cell_type": "markdown",
   "metadata": {},
   "source": [
    "# Fancy-Subplots"
   ]
  },
  {
   "cell_type": "markdown",
   "metadata": {},
   "source": [
    "Subplots are required when we want to show two or more plots in same figure. We can do it in two ways using two slightly different methods.\n",
    "\n",
    "Just run these codes."
   ]
  },
  {
   "cell_type": "markdown",
   "metadata": {},
   "source": [
    "## Method 1"
   ]
  },
  {
   "cell_type": "code",
   "execution_count": null,
   "metadata": {},
   "outputs": [],
   "source": [
    "# importing required modules \n",
    "import matplotlib.pyplot as plt \n",
    "import numpy as np \n",
    "\n",
    "# function to generate coordinates \n",
    "def create_plot(ptype): \n",
    "\t# setting the x-axis vaues \n",
    "\tx = np.arange(-10, 10, 0.01) \n",
    "\t\n",
    "\t# setting the y-axis values \n",
    "\tif ptype == 'linear': \n",
    "\t\ty = x \n",
    "\telif ptype == 'quadratic': \n",
    "\t\ty = x**2\n",
    "\telif ptype == 'cubic': \n",
    "\t\ty = x**3\n",
    "\telif ptype == 'quartic': \n",
    "\t\ty = x**4\n",
    "\t\t\t\n",
    "\treturn(x, y) \n",
    "\n",
    "# setting a style to use , more to learn here: https://matplotlib.org/tutorials/introductory/customizing.html\n",
    "plt.style.use('fivethirtyeight') \n",
    "\n",
    "# create a figure \n",
    "fig = plt.figure() \n",
    "\n",
    "# define subplots and their positions in figure \n",
    "#Here we use fig.add_subplot method to define subplots \n",
    "#and their positions. The function prototype is like this:\n",
    "plt1 = fig.add_subplot(221) \n",
    "plt2 = fig.add_subplot(222) \n",
    "plt3 = fig.add_subplot(223) \n",
    "plt4 = fig.add_subplot(224) \n",
    "\n",
    "# plotting points on each subplot \n",
    "\n",
    "#Next, we plot our points on each subplot. First, we generate x and y axis coordinates using create_plot function by specifying the type of curve we want.\n",
    "#Then, we plot those points on our subplot using .plot method. \n",
    "#Title of subplot is set by using set_title method. \n",
    "#Using $ at starting and end of the title text will ensure that ‘_'(underscore)\n",
    "#is read as a subscript and ‘^’ is read as a superscript.\n",
    "\n",
    "x, y = create_plot('linear') \n",
    "plt1.plot(x, y, color ='r') \n",
    "plt1.set_title('$y_1 = x$') \n",
    "\n",
    "x, y = create_plot('quadratic') \n",
    "plt2.plot(x, y, color ='b') \n",
    "plt2.set_title('$y_2 = x^2$') \n",
    "\n",
    "x, y = create_plot('cubic') \n",
    "plt3.plot(x, y, color ='g') \n",
    "plt3.set_title('$y_3 = x^3$') \n",
    "\n",
    "x, y = create_plot('quartic') \n",
    "plt4.plot(x, y, color ='k') \n",
    "plt4.set_title('$y_4 = x^4$') \n",
    "\n",
    "# adjusting space between subplots \n",
    "fig.subplots_adjust(hspace=.5,wspace=0.5) \n",
    "\n",
    "# function to show the plot \n",
    "plt.show()\n"
   ]
  },
  {
   "cell_type": "markdown",
   "metadata": {},
   "source": [
    "Exercise: plt.figure(?,?) change this to make the figure bigger."
   ]
  },
  {
   "cell_type": "markdown",
   "metadata": {},
   "source": [
    "Note: If the values of the three parameters are less than 10, the function subplot can be called with one int parameter, where the hundreds represent ‘nrows’, the tens represent ‘ncols’ and the units represent ‘plot_number’. This means: Instead of subplot(2, 3, 4) we can write subplot(234).\n",
    "\n",
    "This figure will make it clear that how positions are specified:\n"
   ]
  },
  {
   "cell_type": "markdown",
   "metadata": {},
   "source": [
    "## Method 2 (complex graphs!)"
   ]
  },
  {
   "cell_type": "markdown",
   "metadata": {},
   "source": [
    "subplot2grid is similar to “pyplot.subplot” but uses 0-based indexing and let subplot to occupy multiple cells.\n",
    "Let us try to understand the arguments of the subplot2grid method:\n",
    "1. argument 1 : geometry of the grid\n",
    "2. argument 2: location of the subplot in the grid\n",
    "3. argument 3: (rowspan) No. of rows covered by subplot.\n",
    "4. argument 4: (colspan) No. of columns covered by subplot."
   ]
  },
  {
   "cell_type": "code",
   "execution_count": null,
   "metadata": {},
   "outputs": [],
   "source": [
    "# importing required modules \n",
    "import matplotlib.pyplot as plt \n",
    "import numpy as np \n",
    "\n",
    "# function to generate coordinates \n",
    "def create_plot(ptype): \n",
    "\t# setting the x-axis vaues \n",
    "\tx = np.arange(0, 5, 0.01) \n",
    "\t\n",
    "\t# setting y-axis values \n",
    "\tif ptype == 'sin': \n",
    "\t\t# a sine wave \n",
    "\t\ty = np.sin(2*np.pi*x) \n",
    "\telif ptype == 'exp': \n",
    "\t\t# negative exponential function \n",
    "\t\ty = np.exp(-x) \n",
    "\telif ptype == 'hybrid': \n",
    "\t\t# a damped sine wave \n",
    "\t\ty = (np.sin(2*np.pi*x))*(np.exp(-x)) \n",
    "\t\t\t\n",
    "\treturn(x, y) \n",
    "\n",
    "# setting a style to use \n",
    "plt.style.use('ggplot') \n",
    "\n",
    "# defining subplots and their positions \n",
    "\n",
    "#In our example, each subplot spans over 3 rows and 1 column \n",
    "#with two empty rows (row no. 4,8) .\n",
    "plt1 = plt.subplot2grid((11,1), (0,0), rowspan = 3, colspan = 1) \n",
    "plt2 = plt.subplot2grid((11,1), (4,0), rowspan = 3, colspan = 1) \n",
    "plt3 = plt.subplot2grid((11,1), (8,0), rowspan = 3, colspan = 1) \n",
    "\n",
    "# plotting points on each subplot \n",
    "x, y = create_plot('sin') \n",
    "plt1.plot(x, y, label = 'sine wave', color ='b') \n",
    "x, y = create_plot('exp') \n",
    "plt2.plot(x, y, label = 'negative exponential', color = 'r') \n",
    "x, y = create_plot('hybrid') \n",
    "plt3.plot(x, y, label = 'damped sine wave', color = 'g') \n",
    "\n",
    "# show legends of each subplot \n",
    "plt1.legend() \n",
    "plt2.legend() \n",
    "plt3.legend() \n",
    "\n",
    "# function to show plot \n",
    "plt.show()\n"
   ]
  },
  {
   "cell_type": "markdown",
   "metadata": {},
   "source": [
    "Exercise: Save this plot to an external file."
   ]
  },
  {
   "cell_type": "markdown",
   "metadata": {},
   "source": [
    "# Read  Data Files for  Plots"
   ]
  },
  {
   "cell_type": "markdown",
   "metadata": {},
   "source": [
    "from https://likegeeks.com/numpy-loadtxt-tutorial/#Specifying_the_file_path"
   ]
  },
  {
   "cell_type": "markdown",
   "metadata": {},
   "source": [
    "As you can see, we have done several customizations like\n",
    "\n",
    "\n",
    "setting the line-width, line-style, line-color.\n",
    "setting the marker, marker’s face color, marker’s size.\n",
    "overriding the x and y axis range. If overriding is not done, pyplot module uses auto-scale feature to set the axis range and scale."
   ]
  },
  {
   "cell_type": "code",
   "execution_count": null,
   "metadata": {},
   "outputs": [],
   "source": [
    "# Read  Data Files for of Plots\n",
    "import numpy as np\n",
    "data = np.?(\"./weight_height_1.txt\")"
   ]
  },
  {
   "cell_type": "markdown",
   "metadata": {},
   "source": [
    "We also need to ensure each row in the file has the same number of values."
   ]
  },
  {
   "cell_type": "code",
   "execution_count": null,
   "metadata": {},
   "outputs": [],
   "source": [
    "print(\"shape of data:\",data.?)\n",
    "print(\"datatype of data:\",data.?)"
   ]
  },
  {
   "cell_type": "code",
   "execution_count": null,
   "metadata": {},
   "outputs": [],
   "source": []
  },
  {
   "cell_type": "markdown",
   "metadata": {},
   "source": [
    "Here our text had 100 rows with each row having two float values, so the returned object data will be a NumPy array of shape (100, 2) with the float data type."
   ]
  },
  {
   "cell_type": "markdown",
   "metadata": {},
   "source": [
    "Take another file ‘weight_height_2.txt’, it has the same data content as the previous one, but this time the values in each row are separated by a comma:\n",
    "    "
   ]
  },
  {
   "cell_type": "code",
   "execution_count": null,
   "metadata": {},
   "outputs": [],
   "source": [
    "import numpy as np\n",
    "data = np.loadtxt(\"./weight_height_2.txt\", delimiter = \"?\")"
   ]
  },
  {
   "cell_type": "code",
   "execution_count": null,
   "metadata": {},
   "outputs": [],
   "source": [
    "print(\"shape of array\", data.shape)\n",
    "print(\"First 5 rows:\\n\", data[:?])"
   ]
  },
  {
   "cell_type": "markdown",
   "metadata": {},
   "source": [
    "Let’s look at the content of a new file ‘weight_height_5.txt’, which has an additional gender column that we want to ignore."
   ]
  },
  {
   "cell_type": "markdown",
   "metadata": {},
   "source": [
    "We’ll first determine the number of columns in the file from the first line and then pass a range of column indices excluding the first one:"
   ]
  },
  {
   "cell_type": "code",
   "execution_count": null,
   "metadata": {},
   "outputs": [],
   "source": [
    "with open(\"./weight_height_5.txt\") as f:\n",
    "    #determining number of columns from the first line of text\n",
    "    n_cols = len(f.readline().split(\",\"))\n",
    "data = np.loadtxt(\"./weight_height_5.txt\", delimiter=\",\",usecols=np.arange(1, n_cols))\n",
    "print(\"First five rows:\\n\",data[:?])"
   ]
  },
  {
   "cell_type": "code",
   "execution_count": null,
   "metadata": {},
   "outputs": [],
   "source": [
    "# Print the first item in raw 0\n",
    "\n",
    "# Print the second  item in raw 0\n",
    "\n",
    "\n",
    "# Print the first item in raw 1\n",
    "\n",
    "# Print the second  item in raw 1\n",
    "\n",
    "\n",
    "\n",
    "\n",
    "# Make a  plot: weight on the x-axis, height on the y-axis\n",
    "\n",
    "\n",
    "# Display the plot with plt.show()"
   ]
  },
  {
   "cell_type": "code",
   "execution_count": null,
   "metadata": {},
   "outputs": [],
   "source": [
    "#All data\n",
    "data"
   ]
  },
  {
   "cell_type": "code",
   "execution_count": null,
   "metadata": {},
   "outputs": [],
   "source": [
    "plt.plot(?,?,'go')\n",
    "plt.xlabel('weight - lb - axis') \n",
    "plt.grid()"
   ]
  },
  {
   "cell_type": "markdown",
   "metadata": {},
   "source": [
    "Try also:"
   ]
  },
  {
   "cell_type": "code",
   "execution_count": null,
   "metadata": {},
   "outputs": [],
   "source": [
    "plt.scatter(data[:,0],data[:,1])"
   ]
  },
  {
   "cell_type": "code",
   "execution_count": null,
   "metadata": {},
   "outputs": [],
   "source": [
    "# Print the last item \n",
    "print(data[-1])"
   ]
  },
  {
   "cell_type": "markdown",
   "metadata": {},
   "source": [
    "Conclusion: numpy.loadtxt is undoubtedly one of the most standard choices for reading a well-structured data stored in a text file."
   ]
  },
  {
   "cell_type": "markdown",
   "metadata": {},
   "source": [
    "# Scatter plots"
   ]
  },
  {
   "cell_type": "markdown",
   "metadata": {},
   "source": [
    "A Scatterplot displays the value of 2 sets of data on 2 dimensions. Each dot represents an observation. The position on the X (horizontal) and Y (vertical) axis represents the values of the 2 variables. It is really useful to study the relationship between both variables. It is common to provide even more information using colors or shapes (to show groups, or a third variable). It is also possible to map another variable to the size of each dot, what makes a bubble plot. If you have many dots and struggle with overplotting, consider using 2D density plot."
   ]
  },
  {
   "cell_type": "markdown",
   "metadata": {},
   "source": [
    "Here, we use plt.scatter() function to plot a scatter plot.\n",
    "Like a line, we define x and corresponding y – axis values here as well.\n",
    "marker argument is used to set the character to use as marker. Its size can be defined using s parameter."
   ]
  },
  {
   "cell_type": "code",
   "execution_count": null,
   "metadata": {},
   "outputs": [],
   "source": [
    "import matplotlib.pyplot as plt \n",
    "  \n",
    "# x-axis values \n",
    "x = [1,2,3,4,5,6,7,8,9,10] \n",
    "# y-axis values \n",
    "y = [2,4,5,7,6,8,9,11,12,12] \n",
    "  \n",
    "# plotting points as a scatter plot \n",
    "plt.scatter(x, y, label= \"stars\", color= \"green\",  \n",
    "            marker= \"*\", s=30) \n",
    "  \n",
    "# x-axis label \n",
    "plt.xlabel('x - axis') \n",
    "# frequency label \n",
    "plt.ylabel('y - axis') \n",
    "# plot title \n",
    "plt.title('My scatter plot!') \n",
    "# showing legend \n",
    "plt.legend() \n",
    "  \n",
    "# function to show the plot \n",
    "plt.show() "
   ]
  },
  {
   "cell_type": "markdown",
   "metadata": {},
   "source": [
    "\n",
    "A more complex fill demo\n",
    "========================\n",
    "In addition to the basic fill plot, this demo shows a few optional features:\n",
    "\n",
    "    * Multiple curves with a single command.\n",
    "    * Setting the fill color.\n",
    "    * Setting the opacity (alpha value).\n"
   ]
  },
  {
   "cell_type": "code",
   "execution_count": null,
   "metadata": {},
   "outputs": [],
   "source": [
    "\n",
    "import numpy as np\n",
    "import matplotlib.pyplot as plt\n",
    "\n",
    "x = np.linspace(0, 2 * np.pi, 500)\n",
    "y1 = np.sin(x)\n",
    "y2 = np.sin(3 * x)\n",
    "\n",
    "fig, ax = plt.subplots()\n",
    "ax.fill(x, y1, 'b', x, y2, 'r', alpha=0.3)\n",
    "plt.show()"
   ]
  },
  {
   "cell_type": "markdown",
   "metadata": {},
   "source": [
    "Exercise: Redo the plot above for an upside down parabola $-x^2$, choose limits of plotting (-100,100) and an opacity alpha of 0.1"
   ]
  },
  {
   "cell_type": "markdown",
   "metadata": {},
   "source": [
    "#  Another Animation:"
   ]
  },
  {
   "cell_type": "markdown",
   "metadata": {},
   "source": [
    "!!!!!!! This code works from the command line.!!!!!!!!!!!!\n",
    " \n",
    " \n",
    " So, copy paste it, open a tewrminal, open python, paste and run it."
   ]
  },
  {
   "cell_type": "code",
   "execution_count": null,
   "metadata": {},
   "outputs": [],
   "source": [
    "import numpy as np\n",
    "import matplotlib.pyplot as plt\n",
    "import matplotlib.animation as animation\n",
    "\n",
    "fig, ax = plt.subplots()\n",
    "\n",
    "x = np.arange(0, 2*np.pi, 0.01)        # x-array\n",
    "line, = ax.plot(x, 2*np.exp(np.sin(x)))\n",
    "\n",
    "def animate(i):\n",
    "    line.set_ydata(2*np.exp(np.sin(x-i/10.0)))  # update the data\n",
    "    return line,\n",
    "\n",
    "#Init only required for blitting to give a clean slate.\n",
    "def init():\n",
    "    line.set_ydata(np.ma.array(x, mask=True))\n",
    "    return line,\n",
    "\n",
    "ani = animation.FuncAnimation(fig, animate, np.arange(1, 200), init_func=init,\n",
    "    interval=25, blit=True)\n",
    "plt.show()\n",
    "\n"
   ]
  },
  {
   "cell_type": "markdown",
   "metadata": {},
   "source": [
    "# Working assessment:   ( Due : Monday night)"
   ]
  },
  {
   "cell_type": "markdown",
   "metadata": {},
   "source": [
    "Problem 1: \n",
    "\n",
    "Often we need to plot multiple lines on the same graph, applying different colours and line styles and/or markers to each. Let us now consider the monthly average high and low temperatures.\n",
    "\n",
    "x = [1,2,3,4,5,6,7,8,9,10,11,12] #months\n",
    "\n",
    "y = [30,31,31,31,31,31,31,31,31,31,30,29] # average high Temperature (°C)\n",
    "\n",
    "z = [23,24,24,24,25,24,24,24,24,24,24,23] # average low\n",
    "\n",
    "Plot the monthly average high and low temperatures on the same graph, add labels for both graphs, applying different colours and line styles and/or markers to each curve. Add a legend.\n"
   ]
  },
  {
   "cell_type": "code",
   "execution_count": null,
   "metadata": {},
   "outputs": [],
   "source": [
    "import matplotlib.pyplot as plt\n",
    "import matplotlib.patches as mpatches\n",
    "\n",
    "x = [1,2,3,4,5,6,7,8,9,10,11,12]\n",
    "y = [30,31,31,31,31,31,31,31,31,31,30,29] # average high\n",
    "z = [23,24,24,24,25,24,24,24,24,24,24,23] # average low\n",
    "\n"
   ]
  },
  {
   "cell_type": "markdown",
   "metadata": {},
   "source": [
    "Problem 2:  (https://matplotlib.org/3.1.1/api/_as_gen/matplotlib.axes.Axes.fill.html)\n",
    "\n",
    "Use ax.fill and ax.grid to complete the code below . Generate the plot"
   ]
  },
  {
   "cell_type": "code",
   "execution_count": null,
   "metadata": {},
   "outputs": [],
   "source": [
    "\n",
    "import numpy as np\n",
    "import matplotlib.pyplot as plt\n",
    "\n",
    "x = np.linspace(0, 1, 500)\n",
    "y = np.sin(4 * np.pi * x) * np.exp(-5 * x)\n",
    "\n",
    "fig, ax = plt.subplots()\n",
    "\n",
    "----\n",
    "----\n",
    "plt.show()"
   ]
  },
  {
   "cell_type": "code",
   "execution_count": null,
   "metadata": {},
   "outputs": [],
   "source": []
  },
  {
   "cell_type": "markdown",
   "metadata": {},
   "source": [
    "Problem 3:  Polynomials \n",
    "\n",
    "a) Generate a polynomial of fourth order: p(x) = x^4-x^3-4x^2+4x\n",
    "\n",
    "b) Make a plot of the polynomial between the values -3 and 3, add a legend, grid, title, label the axes and save the figure, and paste into the exercise sheet.\n",
    "\n",
    "c) Calculate the roots of the polynomial\n",
    "\n",
    "d) Calculate the (local) maxima and minima of the polynomial (x-values) and its values at those points (y-values)"
   ]
  },
  {
   "cell_type": "code",
   "execution_count": null,
   "metadata": {},
   "outputs": [],
   "source": []
  },
  {
   "cell_type": "markdown",
   "metadata": {},
   "source": [
    "Problem 4: \n",
    "    \n",
    "    Save all graphs of the above problems in 1 single png file,\n",
    "    3 rows 1 column figure. Attch the png file."
   ]
  },
  {
   "cell_type": "code",
   "execution_count": null,
   "metadata": {},
   "outputs": [],
   "source": []
  }
 ],
 "metadata": {
  "kernelspec": {
   "display_name": "Python 3 (ipykernel)",
   "language": "python",
   "name": "python3"
  },
  "language_info": {
   "codemirror_mode": {
    "name": "ipython",
    "version": 3
   },
   "file_extension": ".py",
   "mimetype": "text/x-python",
   "name": "python",
   "nbconvert_exporter": "python",
   "pygments_lexer": "ipython3",
   "version": "3.10.9"
  }
 },
 "nbformat": 4,
 "nbformat_minor": 2
}
