{
 "cells": [
  {
   "cell_type": "markdown",
   "id": "8a60a8d0",
   "metadata": {},
   "source": [
    "# Principal Component Analysis (PCA) "
   ]
  },
  {
   "cell_type": "markdown",
   "id": "f7590c98",
   "metadata": {},
   "source": [
    "## Learning objectives\n",
    "\n",
    "- 1. Understanding and interpreting the correlation between different features of a dataset.\n",
    "- 2. Applying PCA on a real world dataset and understanding how much data is stored in which components.\n",
    "- 3. Visualizing high dimensional data by first reducing it to two dimensions by using PCA and then plotting it.\n",
    "- 4. Observing how the performance of a model varies with the number of principle components used."
   ]
  },
  {
   "cell_type": "markdown",
   "id": "e2961ec6",
   "metadata": {},
   "source": [
    "Two of the uses of PCA are to visualize high dimensional datasets and improve the training speed of machine learning models. In this notebook, we will demonstrate how PCA helps us with both of these."
   ]
  },
  {
   "cell_type": "code",
   "execution_count": null,
   "id": "df197226",
   "metadata": {},
   "outputs": [],
   "source": [
    "%ls\n"
   ]
  },
  {
   "cell_type": "code",
   "execution_count": null,
   "id": "4a815570",
   "metadata": {},
   "outputs": [],
   "source": [
    "%pwd\n"
   ]
  },
  {
   "cell_type": "markdown",
   "id": "36dcaa2e",
   "metadata": {},
   "source": [
    "# Part 1"
   ]
  },
  {
   "cell_type": "markdown",
   "id": "364d68ac",
   "metadata": {},
   "source": [
    "Let's generate some x,y data, reshape these, calculate the correlation matrix, eigenvalues of the matrix, eigenvectors, \n",
    "and analyse the distribution of scatter plots"
   ]
  },
  {
   "cell_type": "code",
   "execution_count": 4,
   "id": "93c5dcc4",
   "metadata": {},
   "outputs": [
    {
     "name": "stdout",
     "output_type": "stream",
     "text": [
      "[[-0.31532243 -0.9489846 ]\n",
      " [-0.9489846   0.31532243]]\n"
     ]
    },
    {
     "data": {
      "image/png": "[encoded data removed]",
      "text/plain": [
       "<Figure size 640x480 with 1 Axes>"
      ]
     },
     "metadata": {},
     "output_type": "display_data"
    }
   ],
   "source": [
    "import numpy as np\n",
    "import matplotlib.pyplot as plt\n",
    "\n",
    "N = 1000\n",
    "xTrue = np.linspace(0, 1000, N)\n",
    "yTrue = 3 * xTrue\n",
    "xData = xTrue + np.random.normal(0, 100, N)\n",
    "yData = yTrue + np.random.normal(0, 100, N)\n",
    "xData = np.reshape(xData, (N, 1))\n",
    "yData = np.reshape(yData, (N, 1))\n",
    "data = np.hstack((xData, yData))\n",
    "\n",
    "mu = data.mean(axis=0)\n",
    "data = data - mu\n",
    "#data = (data - mu)/data.std(axis=0)  # Uncommenting this reproduces mlab.PCA results\n",
    "eigenvectors, eigenvalues, V = np.linalg.svd(data.T, full_matrices=False)\n",
    "projected_data = np.dot(data, eigenvectors)\n",
    "sigma = projected_data.std(axis=0).mean()\n",
    "\n",
    "#we print the eigenvectors of the correlation matrix and observe graphycally they \n",
    "#are orthogonal vectors\n",
    "\n",
    "print(eigenvectors)\n",
    "\n",
    "fig, ax = plt.subplots()\n",
    "ax.scatter(xData, yData)\n",
    "for axis in eigenvectors:\n",
    "    start, end = mu, mu + sigma * axis\n",
    "    ax.annotate(\n",
    "        '', xy=end, xycoords='data',\n",
    "        xytext=start, textcoords='data',\n",
    "        arrowprops=dict(facecolor='red', width=2.0))\n",
    "ax.set_aspect('equal')\n",
    "plt.show()"
   ]
  },
  {
   "cell_type": "markdown",
   "id": "a7e1e3d6",
   "metadata": {},
   "source": [
    "## PArt 2: \n",
    "\n",
    "We will analyze the breast cancer dataset of sklearn. We will first load the dataset and split it into the training and test sets. Then, we will perform logistic regression on the training set and evaluate our model on the test set. Having done that, we will visualize and analyze correlations in the data. We would explore how PCA helps us compress the data and project it onto two dimensions so that we can plot it. Lastly, we will perform logistic regression on the compressed data and see how that stacks up against the performance of the model on the original data."
   ]
  },
  {
   "cell_type": "code",
   "execution_count": null,
   "id": "647ad75e",
   "metadata": {},
   "outputs": [],
   "source": [
    "import numpy as np\n",
    "import matplotlib.pyplot as plt\n",
    "import pandas as pd\n",
    "\n",
    "from sklearn import datasets\n",
    "from sklearn.model_selection import train_test_split\n",
    "from sklearn.linear_model import LogisticRegression\n",
    "from sklearn.metrics import f1_score\n",
    "\n",
    "from sklearn.preprocessing import StandardScaler\n",
    "from sklearn.decomposition import PCA\n",
    "\n",
    "%matplotlib inline"
   ]
  },
  {
   "cell_type": "code",
   "execution_count": null,
   "id": "a8f346a5",
   "metadata": {},
   "outputs": [],
   "source": [
    "dat = datasets.load_breast_cancer()\n",
    "print(dat.DESCR)"
   ]
  },
  {
   "cell_type": "code",
   "execution_count": null,
   "id": "68cfd2d5",
   "metadata": {},
   "outputs": [],
   "source": [
    "df_all = pd.DataFrame(dat['data'], columns=list(dat['feature_names']))\n",
    "df_all.head()"
   ]
  },
  {
   "cell_type": "code",
   "execution_count": null,
   "id": "cb41e03f",
   "metadata": {},
   "outputs": [],
   "source": [
    "# We do a 70/30 split\n",
    "TEST_SIZE_RATIO = 0.3\n",
    "\n",
    "# Setting up X and y\n",
    "X = df_all\n",
    "y = pd.Series(list(dat['target']))\n",
    "\n",
    "X_train, X_test, y_train, y_test = train_test_split(X, y, test_size=TEST_SIZE_RATIO, random_state=0)\n",
    "\n",
    "# Normalizing the data\n",
    "sc = StandardScaler()\n",
    "X_train = sc.fit_transform(X_train)\n",
    "X_test = sc.transform(X_test)\n",
    "print(\"X_train.shape, y_train.shape\", X_train.shape, y_train.shape)\n",
    "print(\"X_test.shape, y_test.shape\", X_test.shape, y_test.shape)"
   ]
  },
  {
   "cell_type": "code",
   "execution_count": null,
   "id": "85523bdc",
   "metadata": {},
   "outputs": [],
   "source": [
    "model = LogisticRegression(random_state=0).fit(X_train, y_train)\n",
    "print(\"Training score: \", f1_score(y_train, model.predict(X_train)))\n",
    "print(\"Testing score: \", f1_score(y_test, model.predict(X_test)))"
   ]
  },
  {
   "cell_type": "code",
   "execution_count": null,
   "id": "9c201945",
   "metadata": {},
   "outputs": [],
   "source": [
    "def correlation_matrix(y, X, is_plot=False):\n",
    "  # Calculate and plot the correlation symmetrical matrix\n",
    "  # Return:\n",
    "  # yX - concatenated data\n",
    "  # yX_corr - correlation matrix, pearson correlation of values from -1 to +1\n",
    "  # yX_abs_corr - correlation matrix, absolute values\n",
    "  \n",
    "  yX = pd.concat([y, X], axis=1)\n",
    "  yX = yX.rename(columns={0: 'TARGET'})  # rename first column\n",
    "\n",
    "  print(\"Function correlation_matrix: X.shape, y.shape, yX.shape:\", X.shape, y.shape, yX.shape)\n",
    "  print()\n",
    "\n",
    "  # Get feature correlations and transform to dataframe\n",
    "  yX_corr = yX.corr(method='pearson')\n",
    "\n",
    "  # Convert to abolute values\n",
    "  yX_abs_corr = np.abs(yX_corr) \n",
    "  \n",
    "  if is_plot:\n",
    "    plt.figure(figsize=(10, 10))\n",
    "    plt.imshow(yX_abs_corr, cmap='RdYlGn', interpolation='none', aspect='auto')\n",
    "    plt.colorbar()\n",
    "    plt.xticks(range(len(yX_abs_corr)), yX_abs_corr.columns, rotation='vertical')\n",
    "    plt.yticks(range(len(yX_abs_corr)), yX_abs_corr.columns);\n",
    "    plt.suptitle('Pearson Correlation Heat Map (absolute values)', fontsize=15, fontweight='bold')\n",
    "    plt.show()\n",
    "  \n",
    "  return yX, yX_corr, yX_abs_corr\n",
    "\n",
    "# Build the correlation matrix for the train data\n",
    "yX, yX_corr, yX_abs_corr = correlation_matrix(y, X, is_plot=True) "
   ]
  },
  {
   "cell_type": "code",
   "execution_count": null,
   "id": "069819ff",
   "metadata": {},
   "outputs": [],
   "source": [
    "# Applying PCA\n",
    "pca = PCA()\n",
    "X_train_reduced = pca.fit_transform(X_train)\n",
    "X_test_reduced = pca.transform(X_test)\n",
    "\n",
    "# Plotting the amount of information stored in each component\n",
    "plt.ylabel('Variance')\n",
    "plt.xlabel('Component Number')\n",
    "plt.bar(np.arange(30) + 1, pca.explained_variance_ratio_)\n",
    "plt.show()"
   ]
  },
  {
   "cell_type": "code",
   "execution_count": null,
   "id": "5a3ec5a4",
   "metadata": {},
   "outputs": [],
   "source": [
    "print(pca.explained_variance_ratio_)"
   ]
  },
  {
   "cell_type": "code",
   "execution_count": null,
   "id": "cf7f2897",
   "metadata": {},
   "outputs": [],
   "source": [
    "pca = PCA(n_components=2)\n",
    "X_train_reduced = pca.fit_transform(X_train)\n",
    "X_test_reduced = pca.transform(X_test)\n",
    "\n",
    "X_train_reduced_malignant = np.array([x for x, y in zip(X_train_reduced, y_train) if y == 0])\n",
    "X_train_reduced_benign = np.array([x for x, y in zip(X_train_reduced, y_train) if y == 1])\n",
    "\n",
    "plt.scatter(*X_train_reduced_malignant.T, color='red')\n",
    "plt.scatter(*X_train_reduced_benign.T, color='blue')\n",
    "plt.title('Training Set After PCA')\n",
    "plt.legend(['malignant', 'benign'])\n",
    "plt.xlabel('Coordinate of first principle component')\n",
    "plt.ylabel('Coordinate of second principle component')\n",
    "plt.show()"
   ]
  },
  {
   "cell_type": "code",
   "execution_count": null,
   "id": "661c9b71",
   "metadata": {},
   "outputs": [],
   "source": [
    "pca = PCA(n_components=5)\n",
    "X_train_reduced = pca.fit_transform(X_train)\n",
    "X_test_reduced = pca.transform(X_test)\n",
    "\n",
    "model = LogisticRegression(random_state=0).fit(X_train_reduced, y_train)\n",
    "print(\"Training score: \", f1_score(y_train, model.predict(X_train_reduced)))\n",
    "print(\"Testing score: \", f1_score(y_test, model.predict(X_test_reduced)))"
   ]
  },
  {
   "cell_type": "code",
   "execution_count": null,
   "id": "afb551fa",
   "metadata": {},
   "outputs": [],
   "source": [
    "X = np.arange(30) + 1\n",
    "Y = []\n",
    "\n",
    "for i in X:\n",
    "    pca = PCA(n_components=i)\n",
    "    X_train_reduced = pca.fit_transform(X_train)\n",
    "    model = LogisticRegression(random_state=0).fit(X_train_reduced, y_train)\n",
    "    Y.append(f1_score(y_train, model.predict(X_train_reduced)))\n",
    "\n",
    "plt.plot(X, Y)\n",
    "plt.xlabel('Number of Components')\n",
    "plt.ylabel('Training Score')\n",
    "plt.show()\n",
    "\n",
    "Y = []\n",
    "\n",
    "for i in X:\n",
    "    pca = PCA(n_components=i)\n",
    "    X_train_reduced = pca.fit_transform(X_train)\n",
    "    X_test_reduced = pca.transform(X_test)\n",
    "    model = LogisticRegression(random_state=0).fit(X_train_reduced, y_train)\n",
    "    Y.append(f1_score(y_test, model.predict(X_test_reduced)))\n",
    "\n",
    "plt.plot(X, Y)\n",
    "plt.xlabel('Number of Components')\n",
    "plt.ylabel('Test Score')\n",
    "plt.show()"
   ]
  },
  {
   "cell_type": "code",
   "execution_count": null,
   "id": "e2d31a44",
   "metadata": {},
   "outputs": [],
   "source": []
  }
 ],
 "metadata": {
  "kernelspec": {
   "display_name": "Python 3 (ipykernel)",
   "language": "python",
   "name": "python3"
  },
  "language_info": {
   "codemirror_mode": {
    "name": "ipython",
    "version": 3
   },
   "file_extension": ".py",
   "mimetype": "text/x-python",
   "name": "python",
   "nbconvert_exporter": "python",
   "pygments_lexer": "ipython3",
   "version": "3.10.9"
  }
 },
 "nbformat": 4,
 "nbformat_minor": 5
}
