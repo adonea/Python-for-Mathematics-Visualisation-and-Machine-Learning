{
 "cells": [
  {
   "cell_type": "markdown",
   "id": "6537b0f0",
   "metadata": {},
   "source": [
    "# For-Loops\n",
    "\n",
    "A “for-loop” allows you to iterate over a collection of items, and execute a block of code once for each iteration. For example, the following code will sum up all the positive numbers in a tuple:"
   ]
  },
  {
   "cell_type": "code",
   "execution_count": 1,
   "id": "482d6d96",
   "metadata": {},
   "outputs": [
    {
     "name": "stdout",
     "output_type": "stream",
     "text": [
      "9\n"
     ]
    }
   ],
   "source": [
    "# demonstrating a basic for-loop\n",
    "total = 0\n",
    "for item in [1, 3, 5]:\n",
    "    total = total + item\n",
    "\n",
    "print(total)  # `total` has the value 1 + 3 + 5 = 9\n",
    "# `item` is still defined here, and holds the value 5"
   ]
  },
  {
   "cell_type": "markdown",
   "id": "af212310",
   "metadata": {},
   "source": [
    "# While-Loops\n",
    "\n",
    "A “while-loop” allows you to repeat a block of code until a condition is no longer true:"
   ]
  },
  {
   "cell_type": "code",
   "execution_count": null,
   "id": "7ef1cc89",
   "metadata": {},
   "outputs": [],
   "source": [
    "# demonstrating a basic while-loop\n",
    "total = 0\n",
    "while total < 2:\n",
    "    total += 1  # equivalent to: `total = total + 1`\n",
    "\n",
    "print(total)  # `total` has the value 2"
   ]
  },
  {
   "cell_type": "markdown",
   "id": "fccf7684",
   "metadata": {},
   "source": [
    "#  Continue and break statements"
   ]
  },
  {
   "cell_type": "markdown",
   "id": "38e76e54",
   "metadata": {},
   "source": [
    "The continue and break statements can be used within the bodies of both for-loops and while-loops. They provide added means for “short-circuiting” or prematurely exiting a given loop, respectively."
   ]
  },
  {
   "cell_type": "code",
   "execution_count": 2,
   "id": "bb770b32",
   "metadata": {},
   "outputs": [
    {
     "name": "stdout",
     "output_type": "stream",
     "text": [
      "1  ...next iteration\n",
      "2  ...next iteration\n",
      "3  ...break!\n"
     ]
    }
   ],
   "source": [
    "for item in [1, 2, 3, 4, 5]:\n",
    "...     if item == 3:\n",
    "...         print(item, \" ...break!\")\n",
    "...         break\n",
    "...     print(item, \" ...next iteration\")"
   ]
  },
  {
   "cell_type": "markdown",
   "id": "9fe7511d",
   "metadata": {},
   "source": [
    "An `else` clause can be added to the end of any loop. The body of this else-statement will be executed *only if the loop was not exited via a `break` statement*."
   ]
  },
  {
   "cell_type": "code",
   "execution_count": 5,
   "id": "f49fb421",
   "metadata": {},
   "outputs": [
    {
     "name": "stdout",
     "output_type": "stream",
     "text": [
      "2  ...next iteration\n",
      "4  ...next iteration\n",
      "6  ...next iteration\n",
      "if you are reading this, then the loop completed without a 'break'\n"
     ]
    }
   ],
   "source": [
    "# including an else-clause at the end of the loop\n",
    ">>> for item in [2, 4, 6]:\n",
    "...     if item == 3:\n",
    "...         print(item, \" ...break!\")\n",
    "...         break\n",
    "...     print(item, \" ...next iteration\")\n",
    "... else:\n",
    "...     print(\"if you are reading this, then the loop completed without a 'break'\")"
   ]
  },
  {
   "cell_type": "markdown",
   "id": "42ba80d8",
   "metadata": {},
   "source": [
    "The `continue` statement, when encountered within a loop, causes the loop-statement to be revisited immediately."
   ]
  },
  {
   "cell_type": "code",
   "execution_count": 6,
   "id": "301cc9e4",
   "metadata": {},
   "outputs": [
    {
     "name": "stdout",
     "output_type": "stream",
     "text": [
      "x =  1 >> enter loop-body <<\n",
      "--reached end of loop-body--\n",
      "x =  2 >> enter loop-body <<\n",
      "x =  2  continue...back to the top of the loop!\n",
      "x =  3 >> enter loop-body <<\n",
      "--reached end of loop-body--\n"
     ]
    }
   ],
   "source": [
    "# demonstrating a `continue` statement in a loop\n",
    ">>> x = 1\n",
    ">>> while x < 4:\n",
    "...     print(\"x = \", x, \">> enter loop-body <<\")\n",
    "...     if x == 2:\n",
    "...         print(\"x = \", x, \" continue...back to the top of the loop!\")\n",
    "...         x += 1\n",
    "...         continue\n",
    "...     x += 1\n",
    "...     print(\"--reached end of loop-body--\")\n"
   ]
  },
  {
   "cell_type": "markdown",
   "id": "e5a93fa9",
   "metadata": {},
   "source": [
    "It is possible to write a while-loop such that its conditional statement is always True, in which case your code will run ceaselessly! If this ever happens to you in a Jupyter notebook, either interrupt or restart your kernel."
   ]
  },
  {
   "cell_type": "markdown",
   "id": "9a6199b6",
   "metadata": {},
   "source": [
    "# Numbers"
   ]
  },
  {
   "cell_type": "markdown",
   "id": "a6975ed1",
   "metadata": {},
   "source": [
    "In python language x % 2 gives the remainder after the integer division. The % is called the modulo operator. Of course when the remainder is 0, the number is even. x % 2 is 1 when the number is odd\n",
    "\n",
    "\n",
    "LEt's try:\n",
    "\n",
    "\n",
    "Loop through and print out all even numbers from the numbers list in the same order they are received. Don't print any numbers that come after 237 in the sequence."
   ]
  },
  {
   "cell_type": "code",
   "execution_count": 1,
   "id": "92a79c8d",
   "metadata": {},
   "outputs": [
    {
     "name": "stdout",
     "output_type": "stream",
     "text": [
      "402\n",
      "984\n",
      "360\n",
      "408\n",
      "980\n",
      "544\n",
      "390\n",
      "984\n",
      "592\n",
      "236\n",
      "942\n",
      "386\n",
      "462\n",
      "418\n",
      "344\n",
      "236\n",
      "566\n",
      "978\n",
      "328\n",
      "162\n",
      "758\n",
      "918\n"
     ]
    }
   ],
   "source": [
    "numbers = [\n",
    "    951, 402, 984, 651, 360, 69, 408, 319, 601, 485, 980, 507, 725, 547, 544, \n",
    "    615, 83, 165, 141, 501, 263, 617, 865, 575, 219, 390, 984, 592, 236, 105, 942, 941, \n",
    "    386, 462, 47, 418, 907, 344, 236, 375, 823, 566, 597, 978, 328, 615, 953, 345, \n",
    "    399, 162, 758, 219, 918, 237, 412, 566, 826, 248, 866, 950, 626, 949, 687, 217, \n",
    "    815, 67, 104, 58, 512, 24, 892, 894, 767, 553, 81, 379, 843, 831, 445, 742, 717, \n",
    "    958, 609, 842, 451, 688, 753, 854, 685, 93, 857, 440, 380, 126, 721, 328, 753, 470, \n",
    "    743, 527\n",
    "]\n",
    "\n",
    "# your code goes here\n",
    "for x in numbers:\n",
    "    if x % 2 == 0:\n",
    "        print (x)\n",
    "    if x == 237:\n",
    "        break"
   ]
  },
  {
   "cell_type": "markdown",
   "id": "3b1a56d7",
   "metadata": {},
   "source": [
    "# Task:"
   ]
  },
  {
   "cell_type": "markdown",
   "id": "371416c0",
   "metadata": {},
   "source": [
    "Loop over a list of integers repeatedly, summing up all of its even values, and adding the content to a total. Repeat this process until the the total exceeds 100, or if you have looped over the list more than 50 times. Print the total only if it exceeds 100."
   ]
  },
  {
   "cell_type": "code",
   "execution_count": null,
   "id": "4535bbe4",
   "metadata": {},
   "outputs": [],
   "source": [
    "x = [3, 4, 1, 2, 8, 10, -3, 0]\n",
    "num_loop = 0\n",
    "total = 0\n",
    "\n",
    "while ? < 100:\n",
    "    for item in ?:\n",
    "        # return to for-loop if\n",
    "        # `item` is odd-valued\n",
    "        if item % ? == ?:\n",
    "            continue\n",
    "        else:\n",
    "            total += item\n",
    "    num_loop += 1\n",
    "\n",
    "    # break from while-loop if\n",
    "    # more than 50 items tallied\n",
    "    if 50 < num_loop:\n",
    "        break\n",
    "else:\n",
    "    print(total)"
   ]
  },
  {
   "cell_type": "code",
   "execution_count": null,
   "id": "5fe6988f",
   "metadata": {},
   "outputs": [],
   "source": []
  }
 ],
 "metadata": {
  "kernelspec": {
   "display_name": "Python 3 (ipykernel)",
   "language": "python",
   "name": "python3"
  },
  "language_info": {
   "codemirror_mode": {
    "name": "ipython",
    "version": 3
   },
   "file_extension": ".py",
   "mimetype": "text/x-python",
   "name": "python",
   "nbconvert_exporter": "python",
   "pygments_lexer": "ipython3",
   "version": "3.10.9"
  }
 },
 "nbformat": 4,
 "nbformat_minor": 5
}
