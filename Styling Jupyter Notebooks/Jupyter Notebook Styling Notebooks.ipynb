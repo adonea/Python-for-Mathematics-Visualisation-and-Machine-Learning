{
 "cells": [
  {
   "cell_type": "markdown",
   "id": "f5e41609",
   "metadata": {
    "slideshow": {
     "slide_type": "slide"
    }
   },
   "source": [
    "# Jupyter Notebook Style `I`\n",
    "\n",
    "Today we are going to take a deep dive into **editing**.\n",
    "\n",
    "In this session our aims are:\n",
    "1. Experience the joys of ....,\n",
    "1. Try our hand at ....,\n",
    "1. Use colours to  ...."
   ]
  },
  {
   "cell_type": "markdown",
   "id": "5797fd11",
   "metadata": {},
   "source": []
  },
  {
   "cell_type": "markdown",
   "id": "3938f9cb",
   "metadata": {
    "slideshow": {
     "slide_type": "slide"
    }
   },
   "source": [
    "My github:"
   ]
  },
  {
   "cell_type": "raw",
   "id": "ff08bc30",
   "metadata": {
    "slideshow": {
     "slide_type": "subslide"
    }
   },
   "source": [
    "## https://github.com/adonea/Python-for-Mathematics-Visualisation-and-Machine-Learning/upload/main/Tuesday"
   ]
  },
  {
   "cell_type": "markdown",
   "id": "48237579",
   "metadata": {
    "slideshow": {
     "slide_type": "slide"
    }
   },
   "source": [
    "\n",
    "If we find missing data then we should consider the following actions:\n",
    "- remeasure the value\n",
    "- impute a value (compute using the rest of the data)\n",
    "- delete the row with missing data\n",
    "- delete the column with missing data"
   ]
  },
  {
   "cell_type": "markdown",
   "id": "14022006",
   "metadata": {
    "slideshow": {
     "slide_type": "slide"
    }
   },
   "source": [
    "The preprocessing classes have a similar interface to the ML models:\n",
    "- `.fit` to fit the transformer to your data\n",
    "- `.transform` to return the transformed data\n",
    "- `.fit_transform` to do both at once"
   ]
  },
  {
   "cell_type": "code",
   "execution_count": null,
   "id": "41022b22",
   "metadata": {},
   "outputs": [],
   "source": []
  },
  {
   "cell_type": "markdown",
   "id": "aa1ca342",
   "metadata": {
    "slideshow": {
     "slide_type": "slide"
    }
   },
   "source": [
    "# Header 1\n",
    "## Header 2\n",
    "### Header 3\n",
    "#### Header 4\n",
    "##### Header 5\n",
    "###### Header 6"
   ]
  },
  {
   "cell_type": "markdown",
   "id": "b821691f",
   "metadata": {
    "slideshow": {
     "slide_type": "slide"
    }
   },
   "source": [
    " **This is bold text**  \n",
    " __This is bold text__"
   ]
  },
  {
   "cell_type": "markdown",
   "id": "2d205f9e",
   "metadata": {
    "slideshow": {
     "slide_type": "slide"
    }
   },
   "source": [
    "*This is italic text*  \n",
    "_This is italic text_"
   ]
  },
  {
   "cell_type": "markdown",
   "id": "a5ebe4ef",
   "metadata": {
    "slideshow": {
     "slide_type": "slide"
    }
   },
   "source": [
    "Some text <br>\n",
    "Some more text"
   ]
  },
  {
   "cell_type": "markdown",
   "id": "92094701",
   "metadata": {
    "slideshow": {
     "slide_type": "slide"
    }
   },
   "source": [
    "# Horizontal lines:"
   ]
  },
  {
   "cell_type": "markdown",
   "id": "fce8d75e",
   "metadata": {
    "slideshow": {
     "slide_type": "subslide"
    }
   },
   "source": [
    "---\n",
    "___\n",
    "***"
   ]
  },
  {
   "cell_type": "markdown",
   "id": "2be7a0ac",
   "metadata": {
    "slideshow": {
     "slide_type": "slide"
    }
   },
   "source": [
    "# Order"
   ]
  },
  {
   "cell_type": "markdown",
   "id": "df572e1c",
   "metadata": {
    "slideshow": {
     "slide_type": "subslide"
    }
   },
   "source": [
    "1. Cheese\n",
    "2. Carrot\n",
    "3. Coconut"
   ]
  },
  {
   "cell_type": "markdown",
   "id": "0060fc12",
   "metadata": {
    "slideshow": {
     "slide_type": "slide"
    }
   },
   "source": [
    "## Graphics"
   ]
  },
  {
   "cell_type": "markdown",
   "id": "2151c172",
   "metadata": {
    "slideshow": {
     "slide_type": "subslide"
    }
   },
   "source": [
    "![](https://www.python.org/static/community_logos/python-logo-master-v3-TM.png)"
   ]
  },
  {
   "cell_type": "markdown",
   "id": "3f0f37d4",
   "metadata": {
    "slideshow": {
     "slide_type": "slide"
    }
   },
   "source": [
    "## References\n",
    "\n",
    "This is [a reference][]\n",
    "[a reference]: https://en.wikipedia.org \"Wikipedia\""
   ]
  },
  {
   "cell_type": "markdown",
   "id": "84d8568a",
   "metadata": {
    "slideshow": {
     "slide_type": "slide"
    }
   },
   "source": [
    "## Section\n"
   ]
  },
  {
   "cell_type": "markdown",
   "id": "35fd46a9",
   "metadata": {
    "slideshow": {
     "slide_type": "notes"
    }
   },
   "source": [
    "[Section title](#Order)"
   ]
  },
  {
   "cell_type": "markdown",
   "id": "c5db1a10",
   "metadata": {
    "slideshow": {
     "slide_type": "slide"
    }
   },
   "source": [
    "## Tables"
   ]
  },
  {
   "cell_type": "markdown",
   "id": "970dcc83",
   "metadata": {
    "slideshow": {
     "slide_type": "subslide"
    }
   },
   "source": [
    "|Header|Header|Header|\n",
    "|------|------|------|\n",
    "|A     |B     |C     |\n",
    "|X     |Y     |Z     |"
   ]
  },
  {
   "cell_type": "markdown",
   "id": "2cd62859",
   "metadata": {
    "slideshow": {
     "slide_type": "notes"
    }
   },
   "source": [
    "|Header|Header|Header|\n",
    "|------|------|------|\n",
    "|A     |B     |C     |\n",
    "|X     |Y     |Z     |"
   ]
  },
  {
   "cell_type": "markdown",
   "id": "e02e1aeb",
   "metadata": {
    "slideshow": {
     "slide_type": "slide"
    }
   },
   "source": [
    "## Colours"
   ]
  },
  {
   "cell_type": "code",
   "execution_count": 21,
   "id": "7ac5117e",
   "metadata": {},
   "outputs": [
    {
     "ename": "SyntaxError",
     "evalue": "invalid syntax (1499780814.py, line 1)",
     "output_type": "error",
     "traceback": [
      "\u001b[0;36m  Cell \u001b[0;32mIn[21], line 1\u001b[0;36m\u001b[0m\n\u001b[0;31m    <span style=\"color:color\">Text</span>\u001b[0m\n\u001b[0m    ^\u001b[0m\n\u001b[0;31mSyntaxError\u001b[0m\u001b[0;31m:\u001b[0m invalid syntax\n"
     ]
    }
   ],
   "source": [
    "<span style=\"color:color\">Text</span>"
   ]
  },
  {
   "cell_type": "markdown",
   "id": "a2abbeeb",
   "metadata": {},
   "source": [
    "<span style=\"color:color\">Text</span>"
   ]
  },
  {
   "cell_type": "markdown",
   "id": "e45b05d4",
   "metadata": {},
   "source": [
    "<span style=\"color:red\">Text</span>"
   ]
  },
  {
   "cell_type": "markdown",
   "id": "67d28485",
   "metadata": {},
   "source": [
    "<div class=\"alert alert-block alert-info\">\n",
    "<b>Tip:</b> Use blue boxes (alert-info) for tips and notes.</div>"
   ]
  },
  {
   "cell_type": "markdown",
   "id": "88de2d19",
   "metadata": {},
   "source": [
    "<div class=\"alert alert-block alert-success\">\n",
    "<b>Success:</b> This alert box indicates a successful or positive action.\n",
    "</div>"
   ]
  },
  {
   "cell_type": "markdown",
   "id": "0f06298a",
   "metadata": {},
   "source": [
    "<div class=\"alert alert-block alert-danger\">\n",
    "<b>Danger:</b> This alert box indicates a dangerous or potentially negative action.\n",
    "</div>"
   ]
  },
  {
   "cell_type": "markdown",
   "id": "6a4110fe",
   "metadata": {},
   "source": [
    "<code style=\"background:yellow;color:black\">Useful for highlighting to grab the attention of the reader towards certain points.</code>"
   ]
  },
  {
   "cell_type": "code",
   "execution_count": 22,
   "id": "d584f1b9",
   "metadata": {},
   "outputs": [
    {
     "data": {
      "application/vnd.jupyter.widget-view+json": {
       "model_id": "a7355a8a7a854eb0a67226e500f6ad65",
       "version_major": 2,
       "version_minor": 0
      },
      "text/plain": [
       "Button(button_style='danger', description='Danger Button', style=ButtonStyle())"
      ]
     },
     "execution_count": 22,
     "metadata": {},
     "output_type": "execute_result"
    }
   ],
   "source": [
    "from ipywidgets import Button\n",
    "\n",
    "Button(description='Danger Button', button_style='danger')"
   ]
  },
  {
   "cell_type": "code",
   "execution_count": 23,
   "id": "96c1fd4a",
   "metadata": {},
   "outputs": [
    {
     "data": {
      "application/vnd.jupyter.widget-view+json": {
       "model_id": "c0004bdbf16f4cb1b885b207ffd1347b",
       "version_major": 2,
       "version_minor": 0
      },
      "text/plain": [
       "Button(description='Custom color', style=ButtonStyle(button_color='lightgreen'))"
      ]
     },
     "execution_count": 23,
     "metadata": {},
     "output_type": "execute_result"
    }
   ],
   "source": [
    "b1 = Button(description='Custom color')\n",
    "b1.style.button_color = 'lightgreen'\n",
    "b1"
   ]
  },
  {
   "cell_type": "code",
   "execution_count": 24,
   "id": "f28077e3",
   "metadata": {},
   "outputs": [
    {
     "name": "stdout",
     "output_type": "stream",
     "text": [
      "Register a callback to execute when the button is clicked.\n",
      "\n",
      "        The callback will be called with one argument, the clicked button\n",
      "        widget instance.\n",
      "\n",
      "        Parameters\n",
      "        ----------\n",
      "        remove: bool (optional)\n",
      "            Set to true to remove the callback from the list of callbacks.\n",
      "        \n"
     ]
    },
    {
     "data": {
      "application/vnd.jupyter.widget-view+json": {
       "model_id": "65df8893cb8e489ea6911012d6acf724",
       "version_major": 2,
       "version_minor": 0
      },
      "text/plain": [
       "Button(description='Click Me!', style=ButtonStyle())"
      ]
     },
     "metadata": {},
     "output_type": "display_data"
    },
    {
     "data": {
      "application/vnd.jupyter.widget-view+json": {
       "model_id": "c148b691129d4f2eb2fe4945fec08f00",
       "version_major": 2,
       "version_minor": 0
      },
      "text/plain": [
       "Output()"
      ]
     },
     "metadata": {},
     "output_type": "display_data"
    }
   ],
   "source": [
    "import ipywidgets as widgets\n",
    "print(widgets.Button.on_click.__doc__)\n",
    "\n",
    "from IPython.display import display\n",
    "button = widgets.Button(description=\"Click Me!\")\n",
    "output = widgets.Output()\n",
    "\n",
    "display(button, output)\n",
    "\n",
    "def on_button_clicked(b):\n",
    "    with output:\n",
    "        print(\"Button clicked.\")\n",
    "\n",
    "button.on_click(on_button_clicked)"
   ]
  },
  {
   "cell_type": "code",
   "execution_count": 25,
   "id": "4a6c63f7",
   "metadata": {},
   "outputs": [],
   "source": [
    "# Utils widgets\n",
    "from ipywidgets import Button, Layout, jslink, IntText, IntSlider\n",
    "\n",
    "def create_expanded_button(description, button_style):\n",
    "    return Button(description=description, button_style=button_style, layout=Layout(height='auto', width='auto'))\n",
    "\n",
    "top_left_button = create_expanded_button(\"Top left\", 'info')\n",
    "top_right_button = create_expanded_button(\"Top right\", 'success')\n",
    "bottom_left_button = create_expanded_button(\"Bottom left\", 'danger')\n",
    "bottom_right_button = create_expanded_button(\"Bottom right\", 'warning')\n",
    "\n",
    "top_left_text = IntText(description='Top left', layout=Layout(width='auto', height='auto'))\n",
    "top_right_text = IntText(description='Top right', layout=Layout(width='auto', height='auto'))\n",
    "bottom_left_slider = IntSlider(description='Bottom left', layout=Layout(width='auto', height='auto'))\n",
    "bottom_right_slider = IntSlider(description='Bottom right', layout=Layout(width='auto', height='auto'))"
   ]
  },
  {
   "cell_type": "code",
   "execution_count": 26,
   "id": "dd718888",
   "metadata": {},
   "outputs": [
    {
     "data": {
      "application/vnd.jupyter.widget-view+json": {
       "model_id": "a9246661b48c49f5b148606834150043",
       "version_major": 2,
       "version_minor": 0
      },
      "text/plain": [
       "TwoByTwoLayout(children=(Button(button_style='info', description='Top left', layout=Layout(grid_area='top-left…"
      ]
     },
     "execution_count": 26,
     "metadata": {},
     "output_type": "execute_result"
    }
   ],
   "source": [
    "from ipywidgets import TwoByTwoLayout\n",
    "\n",
    "TwoByTwoLayout(top_left=top_left_button,\n",
    "               top_right=top_right_button,\n",
    "               bottom_left=bottom_left_button,\n",
    "               bottom_right=bottom_right_button)"
   ]
  },
  {
   "cell_type": "code",
   "execution_count": null,
   "id": "6deb50f3",
   "metadata": {},
   "outputs": [],
   "source": []
  },
  {
   "cell_type": "markdown",
   "id": "222d1d4f",
   "metadata": {},
   "source": [
    "## Definitions"
   ]
  },
  {
   "cell_type": "markdown",
   "id": "25976189",
   "metadata": {},
   "source": [
    "<dl>\n",
    "<dt>First Term</dt>\n",
    "<dd>This is the definition of the first term.</dd>\n",
    "<dt>Second Term</dt>\n",
    "<dd>This is one definition of the second term. </dd>\n",
    "<dd>This is another definition of the second term.</dd>\n",
    "</dl>"
   ]
  },
  {
   "cell_type": "markdown",
   "id": "d169c844",
   "metadata": {},
   "source": [
    "## Latex"
   ]
  },
  {
   "cell_type": "markdown",
   "id": "fe7a6709",
   "metadata": {},
   "source": [
    "LaTeX MATH\n",
    "Jupyter Notebooks’ Markdown cells support LateX for formatting mathematical equations. To tell Markdown to interpret your text as LaTex, surround your input with dollar signs like this:"
   ]
  },
  {
   "cell_type": "markdown",
   "id": "b57d19f8",
   "metadata": {},
   "source": [
    "$\\sqrt{k}$"
   ]
  },
  {
   "cell_type": "code",
   "execution_count": null,
   "id": "9a8fc9c6",
   "metadata": {},
   "outputs": [],
   "source": []
  }
 ],
 "metadata": {
  "kernelspec": {
   "display_name": "Python 3 (ipykernel)",
   "language": "python",
   "name": "python3"
  },
  "language_info": {
   "codemirror_mode": {
    "name": "ipython",
    "version": 3
   },
   "file_extension": ".py",
   "mimetype": "text/x-python",
   "name": "python",
   "nbconvert_exporter": "python",
   "pygments_lexer": "ipython3",
   "version": "3.10.9"
  }
 },
 "nbformat": 4,
 "nbformat_minor": 5
}
